{
 "cells": [
  {
   "cell_type": "markdown",
   "metadata": {},
   "source": [
    "# 4. Equity Risk #\n",
    "\n",
    "While the pricing formula \\eqref{eq:generic_pricing} is generic enough to cover just about any financial arrangement, it is most useful for fixed income instruments where the planned cash flows are highly likely. As the times and amounts in \\eqref{eq:generic_pricing} become less and less certain, the value of enumerating possible but not probable cash flows gets lower and lower.\n",
    "\n",
    "<a name=\"bachelier\"></a>Thus equity risk modelers have taken other approaches to understand equity risks. In his 1900 PhD thesis at the Sorbonne, [Louis Bachelier](https://books.google.com/books?id=XcZwuHGRxsgC&pg) originated an approach to equity risk that provides the basis for most current models. His approach was essentially formula \\eqref{eq:rendleman_bartter} applied to rates of return rather than to interest rates; the key insight was the use of Brownian motion ($d\\beta$ in \\eqref{eq:rendleman_bartter}) 5 years before Einstein's paper on the subject. For good measure Bachelier covered options pricing, anticipating by over 70 years what is perhaps the most famous formula in mathematical finance &mdash; the Black-Scholes model.\n",
    "\n",
    "Bachelier's work was largely forgotten until it was rediscovered and promoted by the statistician [Leonard Jimmie Savage](https://www.jstor.org/stable/2240741) in the 1950's. Whether knowingly or not, many of the models that were used by economists and financial risk modelers starting in the 1950's and 1960's used Bachelier's ideas.\n",
    "\n",
    "In this chapter we'll discuss some of the most common equity models, starting with Harry Markowitz's efficient frontier. We'll then briefly review Bayes' Rule, and see how Bayesian adjustments are often used in practical methods to select portfolios with simultaneous risk and reward optimization.\n",
    "\n",
    "Finally we'll show a practical and widely used method for equity risk/reward optimization, the Black-Litterman algorithm."
   ]
  },
  {
   "cell_type": "markdown",
   "metadata": {},
   "source": [
    "## 4.1 Markowitz Efficient Frontier\n",
    "\n",
    "Harry Markowitz is considered the father of quantitative finance. In 1952, his University of Chicago PhD thesis and [subsequent work](https://doi.org/10.2307/2975974) considered the problem of how investors should compose _portfolios_ &mdash; a portfolio is a set of assets &mdash; from individual assets.\n",
    "\n",
    "Prior to Markowitz, investment managers who constructed portfolios had a concept that risk was something you needed to be compensated for bearing. This was compatible with Frank Knight’s formulation of risk as lack of information about the future: you needed to be paid to expose your portfolio to an unknown future. However, there was no metric for risk and therefore no precise link between how much risk you took and how much you needed to be compensated for it.\n",
    "\n",
    "The idea that you could put a number on risk – that you could measure your lack of information about the future – is essentially due to Markowitz, who won the [1990 Nobel Memorial Prize in Economic Sciences](https://www.nobelprize.org/prizes/economic-sciences/1990/press-release/) for his work. Markowitz is still quite active – he is currently an adjunct professor at the [University of California at San Diego](https://rady.ucsd.edu/people/faculty/markowitz/).\n",
    "\n",
    "One way of thinking of a portfolio is as an n-vector $w$ (where n is the number of all the assets in the world) that satisfies the **`budget constraint`** $w^{\\prime}u=1$ (u the unit n-vector of all ones). $w$ is the vector of weights of assets you own at a certain time, scaled so it represents 100% of your wealth. $w$ can contain negative values.\n",
    "\n",
    "The **`return`** or **`rate of return`** on an asset during a time period is the ending value of the asset divided by the beginning value of the asset, minus one. If there are distributions such as dividends or coupons during the period, they are added (possibly in a time-adjusted way) to the ending value. The returns on the $n$ assets in the world during a period can be characterized by a random variable n-vector $r$. Thus the scalar random variable giving the return of a portfolio $w$ during the period is $w^{\\prime}r$.\n",
    "\n",
    "Markowitz introduced the idea that investors think of risk as volatility, as measured by the statistic standard deviation (or its square, variance). In our notation, standard deviation $\\sigma$ of a portfolio $w$ is $\\sigma=\\sqrt{\\mathbb{E}[\\bigl(w^{\\prime}(r-\\mathbb{E}[r]\\bigr)^2]}=\\sqrt{w^{\\prime}\\mathbb{E}[(r-\\mathbb{E}[r])(r-\\mathbb{E}[r])^{\\prime}]w}$. This is sensible and intuitive - there are more possibilities (less knowledge about the future) for a high-volatility series than for a low-volatility series.\n",
    "\n",
    "\n",
    "\n",
    "Building on this intuition, Markowitz’s basic formulation was:\n",
    ">Given a choice between two portfolios with the same expected (arithmetic) return, any rational investor will prefer the one with less risk (that is, less variance of returns).\n",
    "\n",
    "Equivalently\n",
    ">Given a choice between two portfolios with the same risk (variance of returns), any rational investor will prefer the one with more arithmetic or expected return.\n",
    "\n",
    "Consider again the [Generous Billionaires](#generous_billionaires). We saw that because of risk aversion, most people would not value a coin toss for \\\\$1,000,000,000 or \\\\$0 at the average \\\\$500,000,000. Put another way, most people would pay far less than \\\\$500,000,000 to purchase a portfolio consisting of one Generous Billionaire tossing a coin for a billion or zero.\n",
    "\n",
    "But suppose that you were able to form a portfolio of 100 coin-tossing [Generous Billionaires](#generous_billionaires), each tossing a different coin and paying \\\\$10,000,000 on heads and nothing on tails. Your best and worst cases are still one billion and zero, as they were with the single coin-tossing [Generous Billionaire](#generous_billionaires). But the chance of your portfolio being worth nothing is now $2^{-100}$, which is effectively zero. The outcomes of your portfolio form a binomial distribution; the chance of you getting less than \\\\$310,000,000 is less than $10^{-4}$. The average value of the portfolio is still \\\\$500,000,000. But by just about any measure, risk has gone down.\n",
    "\n",
    "So by forming a portfolio, you get the same reward as a single coin toss, with less risk. In Markowitz's formulation, the portfolio of 100 coin-tossing billionaires is more _efficient_ than the portfolio of one coin-tossing billionaire. It has the same expected return, and lower standard deviation (\\\\$5 million vs. \\\\$500 million).\n",
    "\n",
    "This is not just financial wizardry; **`diversification`** is often a better way to allocate human efforts. Pursuing 100 different ventures is a better technique for progress than everyone working on one venture, just like it was better for the farmer and the hunter in the [two-person economy](#two_person_economy) to pool their different food-gathering efforts. \n",
    "\n",
    "Markowtiz's primary risk metric, standard deviation, fails the ADEH monotonicity criterion but is otherwise coherent. Actually the near-coherent risk metric is $\\rho(X)=\\lambda\\sigma(X)-\\mu(X)$, where $\\lambda>0$ is a scalar and $\\sigma(X)$ and $\\mu(X)$ are the standard deviation and mean of $X$. Suppose $R_f$ and $Y$ are random variables that cost the same at present. $R_f$ is the [risk-free instrument](#risk_free_instrument) that will be worth \\\\$1 in all future states, while $Y$ will be worth \\\\$1 half the time and \\\\$3 the other half the time. $\\rho(R)=-1$ while $\\rho(Y)=\\lambda-2$, so the statewise dominant $Y$ shows more risk than $R_f$ when $\\lambda$ is large enough. Thus standard deviation can say there is risk in taking advantage of [riskless arbitrages](#no_arbitrage); that's nonsense. Fortunately Markowitz's framework had few of the kinds of instruments &mdash; like derivatives &mdash; that would be the most obvious source of such arbitrage possibilities.\n",
    "\n",
    "Once you have accepted the idea that a rational investor will choose the less risky portfolio from two with the same arithmetic mean return, you can form an **`efficient frontier`**: a set of portfolios that have the least possible risk at a given level of return; or the greatest possible return at a given level of risk.\n",
    "\n",
    "Let $\\boldsymbol{m}=\\mathbb{E}[\\boldsymbol{r}]=(\\mathbb{E}[r_1],\\mathbb{E}[r_2],\\dots\\mathbb{E}[r_n])^{\\prime}$ be the vector of expected returns from now until one period in the future. Here $r_i$ is the scalar random variable giving returns of the $i^{th}$ asset and $\\mathbb{E}[]$ is the expected value operator. Then $\\mathbb{E}[\\boldsymbol{w^{\\prime}r}]=\\boldsymbol{m^{\\prime}w}$. Let\n",
    "\n",
    "$$C=\\begin{bmatrix}\n",
    "\\sigma_1^2&\\sigma_{12}&\\dots&\\sigma_{1n}\\\\\n",
    "\\sigma_{21}&\\sigma_2^2&\\dots&\\sigma_{2n}\\\\\n",
    "\\dots\\\\\n",
    "\\sigma_{n1}&\\sigma_{n2}&\\dots&\\sigma_n^2\\\\\n",
    "\\end{bmatrix}\\tag{4.10}$$\n",
    "be the covariance matrix of returns, i.e. $\\sigma_{ij}=\\mathbb{E}[(r_i-\\mathbb{E}[r_i])(r_j-\\mathbb{E}[r_j])]$. Note we sometimes drop the double subscript on the diagonal, writing $\\sigma_i^2$ instead of $\\sigma_{ii}$.\n",
    "\n",
    "Then if $\\boldsymbol{w}$ is a portfolio n-vector, $Var[\\boldsymbol{w^{\\prime}r}]=\\boldsymbol{w^{\\prime}}C\\boldsymbol{w}$, where Var is the variance (not value-at-risk) operator. If $\\boldsymbol{w}$ is a portfolio on the efficient frontier and $\\boldsymbol{v}$ is another portfolio with $\\boldsymbol{w^{\\prime}m=v^{\\prime}m}$ (that is, they have the same expected or arithmetic mean returns), then we must have $Var[\\boldsymbol{v^{\\prime}r}]\\geq Var[\\boldsymbol{w^{\\prime}r}]$. Equivalently if $Var[\\boldsymbol{v^{\\prime}r}]=Var[\\boldsymbol{w^{\\prime}r}]$ then we must have $\\boldsymbol{w^{\\prime}m\\geq v^{\\prime}m}$.\n",
    "\n",
    "The dark blue curve on top of the dots in Figure 4.1 is the efficient frontier &mdash; you can't get any higher than that at a given point on the x axis, nor can you get any further to the left for a given point on the y axis. All the other dots represent inefficient portfolios."
   ]
  },
  {
   "cell_type": "code",
   "execution_count": 1,
   "metadata": {},
   "outputs": [
    {
     "data": {
      "text/plain": [
       "<Figure size 640x480 with 1 Axes>"
      ]
     },
     "metadata": {},
     "output_type": "display_data"
    }
   ],
   "source": [
    "#Graph an efficient frontier with inefficient\n",
    "#points below it\n",
    "import matplotlib.pyplot as plt\n",
    "import numpy as np\n",
    "\n",
    "# evenly sampled standard deviation\n",
    "t = np.arange(0.05, .2, 0.005)\n",
    "\n",
    "#Plot the frontier\n",
    "plt.plot(t, .7*(t-.04)**.5-.04, 'bD', color='darkblue')\n",
    "markers=['o','*','8','s','p','x']\n",
    "colors=['yellow','red','green','orange','black','magenta']\n",
    "#Six sets of random inefficient portfolios\n",
    "for i in range(6):\n",
    "    s=np.random.uniform(0,1,len(t))\n",
    "    plt.scatter(t, s*(.7*(t-.04)**.5-.04), marker=markers[i], color=colors[i])\n",
    "plt.axis([0,.2,0,.25])\n",
    "plt.title('Figure 4.1: Efficient Frontier and Inefficient Portfolios')\n",
    "plt.xlabel('Risk (annual std. deviation)')\n",
    "plt.ylabel('Reward (arith. annual return)')\n",
    "plt.grid(True)\n",
    "plt.show();"
   ]
  },
  {
   "cell_type": "markdown",
   "metadata": {},
   "source": [
    "### 4.1.1 Equality-Constrained Frontier\n",
    "<a><a name=\"equality_constrained_frontier\"></a>\n",
    "\n",
    "Markowitz did not initially think about multiperiod portfolio construction, as that was too hard to deal with in 1952. Thus the issue of compounding and the relationship between arithmetic means and geometric (compound) means was avoided. He did not require multivariate normal distributions.\n",
    "\n",
    "Finding an efficient portfolio n-vector $\\boldsymbol{w}$ with a specified mean return $\\mu$ is a quadratic optimization problem:\n",
    "$$\\text{Minimize  }\\boldsymbol{w^{\\prime}}C\\boldsymbol{w}\\label{eq:equal_frontier}\\tag{4.11}$$\n",
    "$$\\text{Subject to } \\boldsymbol{w^{\\prime}m=\\mu} \\text{ and } \\boldsymbol{w^{\\prime}u}=1$$\n",
    "\n",
    "Of course there are many other constraints we might impose, the most obvious being non-negative holdings. In 1952, there was [only one hedge fund](http://awjones.com/legacy/) that systematically had negative holdings (short sales). Today there are far more such portfolios, but there are also many portfolios that restrict themselves to non-negative holdings.\n",
    "\n",
    "Long-only requirements are _inequality constraints_, which don't have a closed-form solution. If we just solve the equality-constrained problem in \\eqref{eq:equal_frontier}, we can use Lagrange multipliers. We take derivates with respect to $\\boldsymbol{w}$ of the Lagrangian\n",
    "$$\\boldsymbol{w^{\\prime}}C\\boldsymbol{w}-\\lambda_1(\\boldsymbol{w^{\\prime}m}-\\mu)-\\lambda_2(\\boldsymbol{w^{\\prime}u}-1)$$\n",
    "which gives\n",
    "$$2C\\boldsymbol{w}-\\lambda_1m-\\lambda_2u=0$$\n",
    "If $C$ is nonsingular, we have\n",
    "$$\\boldsymbol{w}=C^{-1}(\\lambda_1 m + \\lambda_2 u)\\label{eq:equal_frontier_lagrange}\\tag{4.12}$$\n",
    "where we rescale the $\\lambda's$ so we can drop a factor of 2.\n",
    "\n",
    "Left-multiplying \\eqref{eq:equal_frontier_lagrange} by $\\boldsymbol{m^{\\prime}}$ and $u^{\\prime}$, respectively, gives\n",
    "$$\\mu=m^{\\prime}C^{-1}(\\lambda_1 m+\\lambda_2 u)$$\n",
    "$$1=u^{\\prime}C^{-1}(\\lambda_1 m+\\lambda_2 u)$$\n",
    "\n",
    "Solving for the Lagrange multipliers $\\lambda_1$ and $\\lambda_2$ gives\n",
    "$$\\lambda_1=\\frac{(u^{\\prime}C^{-1}u)\\mu-u^{\\prime}C^{-1}m}{(u^{\\prime}C^{-1}u)(m^{\\prime}C^{-1}m)-(u^{\\prime}C^{-1}m)^2}\\label{eq:equal_frontier_lambda_one}\\tag{4.13}$$\n",
    "We can solve for $\\lambda_2$ as a function of $\\lambda_1$:\n",
    "$$\\lambda_2=\\frac{1-(u^{\\prime}C^{-1}m)\\lambda_1}{u^{\\prime}C^{-1}u}\\label{eq:equal_frontier_lambda_two}\\tag{4.14}$$\n",
    "\\eqref{eq:equal_frontier_lambda_one} expresses $\\lambda_1$ as a function of the desired mean return $\\mu$, or $\\mu$ as a function of $\\lambda_1$. It will be more convenient to look at it the second way, and retain $\\lambda_1$ as a varying parameter that moves along the efficient frontier. Together with \\eqref{eq:equal_frontier_lagrange}, \\eqref{eq:equal_frontier_lambda_one} and \\eqref{eq:equal_frontier_lambda_two} give the expression for efficient portfolios $\\boldsymbol{w}$ as a function of the varying parameter $\\lambda_1$:\n",
    "$$w=\\lambda_1\\bigl(I-\\frac{C^{-1}J}{u^{\\prime}C^{-1}u}\\bigr)C^{-1}m+\\frac{C^{-1}u}{u^{\\prime}C^{-1}u}\\label{eq:equal_frontier_two_fund}\\tag{4.15}$$\n",
    "where $J=\\boldsymbol{uu^{\\prime}}$ is the nxn matrix of all ones. The variance at the solution is\n",
    "$$w^{\\prime}Cw=\\lambda_1^2\\bigl(\\frac{(u^{\\prime}C^{-1}u)(m^{\\prime}C^{-1}m)-(u^{\\prime}C^{-1}m)^2}{u^{\\prime}C^{-1}u}\\bigr)+\\frac{1}{u^{\\prime}C^{-1}u}\\label{eq:equal_frontier_variance}\\tag{4.16}$$\n",
    "\n",
    "If we don’t care about mean return and just want the lowest variance portfolio possible, we set $\\lambda_1=0$ and get\n",
    "$$w_{minv}=\\frac{C^{-1}u}{u^{\\prime}C^{-1}u}\\text{   and   }w_{minv}^{\\prime}Cw_{minv}=\\frac{1}{u^{\\prime}C^{-1}u}\\tag{4.17}$$\n",
    "\n",
    "\\eqref{eq:equal_frontier_two_fund} is sometimes called the **`Two-Fund Separation Theorem`** because of its linear form; efficient portfolios satisfying \\eqref{eq:equal_frontier_two_fund} lie along a line in n-space. Let $w_1$ be the value of \\eqref{eq:equal_frontier_two_fund} when $\\lambda_1=1$; then any $w$ on the \\eqref{eq:equal_frontier_two_fund} efficient frontier can be expressed as $w=\\lambda w_1+(1-\\lambda)w_{minv}$ for some $\\lambda>0$. Thus in the simplified world of \\eqref{eq:equal_frontier_two_fund}, investors don't have to choose between $n$ investments; every investor merely needs to buy some $w_{minv}$ and some $w_1$, with only the proportion changing from investor to investor.\n",
    "\n",
    "<a><a name=\"frontier_leverage\"></a>\n",
    "If we don’t care about variance and just want the highest mean portfolio possible, there is no bound. That is because so far we have not prevented leverage, which is measured by the sum of the positive entries in $\\boldsymbol{w}$.\n",
    "Thus if there are two assets with slightly different expected values, we could weight the higher one with a huge weight approaching infinity, and the lower one with one minus that weight. This two-asset portfolio has an expected return approaching infinity as the weight of the higher returning asset approaches infinity and the weight of the lower returning asset approaches minus infinity.\n",
    "\n",
    "The hedge fund Long Term Capital Management reportedly used [leverage of around 25](http://clsbluesky.law.columbia.edu/2018/09/10/a-retrospective-on-the-demise-of-long-term-capital-management/), attempting to get near-infinite returns or at least near-infinite paychecks for its principals. Since $\\boldsymbol{w^{\\prime}u}=1$, leverage of 25 means that for every dollar invested in LTCM, the firm borrowed another \\\\$24 through short sales, and put \\\\$25 at risk. It would only take a drop of 4% in the value of its positive holdings (while the negative holdings didn't move) to bankrupt LTCM. LTCM no longer exists and its crash in 1998 nearly destroyed the entire financial system. As a practical matter limits – on holdings, on leverage – are imposed.\n",
    "\n",
    "Reversing \\eqref{eq:equal_frontier_lambda_one} to solve for $\\mu$ in terms of $\\lambda_1$, we obtain\n",
    "$$\\mu=m^{\\prime}w=\\lambda_1\\bigl(\\frac{(u^{\\prime}C^{-1}u)(m^{\\prime}C^{-1}m)-(u^{\\prime}C^{-1}m)^2}{u^{\\prime}C^{-1}u}\\bigr)+\\frac{u^{\\prime}C^{-1}m}{u^{\\prime}C^{-1}u}\\label{eq:equal_frontier_mu}\\tag{4.18}$$\n",
    "Taking the square root of \\eqref{eq:equal_frontier_variance} gives the associated standard deviation as a function of $\\lambda_1$:\n",
    "$$\\sqrt{w^{\\prime}Cw}=\\sqrt{\\lambda_1^2\\bigl(\\frac{(u^{\\prime}C^{-1}u)(m^{\\prime}C^{-1}m)-(u^{\\prime}C^{-1}m)^2}{u^{\\prime}C^{-1}u}\\bigr)+\\frac{1}{u^{\\prime}C^{-1}u}}\\label{eq:equal_frontier_sigma}\\tag{4.19}$$\n",
    "\\eqref{eq:equal_frontier_mu} and \\eqref{eq:equal_frontier_sigma} allow us to draw an efficient frontier on a graph like Figure 4.1, where the x coordinate is given by \\eqref{eq:equal_frontier_sigma} and the y coordinate is given by \\eqref{eq:equal_frontier_mu} as $\\lambda_1$ varies from 0 to infinity."
   ]
  },
  {
   "cell_type": "markdown",
   "metadata": {},
   "source": [
    "### 4.1.2 Equality-Constrained Frontier: Example\n",
    "\n",
    "We'll work an example using a portfolio of $n=3$ assets: Swiss francs (CHF), pounds sterling (&pound; or GBP), and Japanese Yen (&yen; or JPY). The portfolio is denominated in US dollars.\n",
    "\n",
    "The code in the next cell retrieves the dollar per currency for these three currencies, and reports some general statistics:"
   ]
  },
  {
   "cell_type": "code",
   "execution_count": 2,
   "metadata": {},
   "outputs": [
    {
     "name": "stdout",
     "output_type": "stream",
     "text": [
      "Means: [ 1.2138 -0.5389  0.9821] bps/day\n",
      "(CHF, GBP, JPY)\n",
      "\n",
      "   [0.5194 0.2494 0.2207]\n",
      "C= [0.2494 0.3568 0.1166]     (4.20)\n",
      "   [0.2207 0.1166 0.4155]\n",
      "(%/day)² units\n",
      "  \n",
      "From 1971-01-05 to 2018-12-31 ( 12036 observations)\n"
     ]
    }
   ],
   "source": [
    "import pandas as pd\n",
    "import qrbook_funcs as qf\n",
    "#Get 3 currencies until the end of\n",
    "#previous year. Form sample covariance matrix\n",
    "#and do simple efficient frontier calculations\n",
    "\n",
    "lastday=qf.LastYearEnd()\n",
    "#Swiss franc, pound sterling, Japanese Yen\n",
    "seriesnames=['DEXSZUS','DEXUSUK','DEXJPUS']\n",
    "cdates,ratematrix=qf.GetFREDMatrix(seriesnames,enddate=lastday)\n",
    "\n",
    "#Convert levels to log-returns\n",
    "#First take logs of the currency levels\n",
    "#Currency exchange rates are usually expressed in the direction\n",
    "#that will make the rate > 1\n",
    "#Swissie and yen are in currency/dollar, but\n",
    "#pounds is in dollar/currency. Reverse signs\n",
    "#so everything is in dollar/currency\n",
    "\n",
    "#Do each currency separately to account for separate missing data patterns\n",
    "#dlgs is a list of lists of length 3 corresponding to the 3 currencies\n",
    "#The value in dlgs is nan if there is missing data for the present or previous day's observation\n",
    "#Otherwise it is the log of today/yesterday\n",
    "multipliers=[-1,1,-1]\n",
    "dlgs=[]\n",
    "for i in range(len(multipliers)):\n",
    "    lgrates=[]\n",
    "    previous=-1\n",
    "    for t in range(len(ratematrix)):\n",
    "        if pd.isna(ratematrix[t][i]) or ratematrix[t][i]<=0:\n",
    "            lgrates.append(np.nan)    #Append a nan\n",
    "        else:\n",
    "            if previous < 0:    #This is the first data point\n",
    "                lgrates.append(np.nan)\n",
    "            else:\n",
    "                lgrates.append(np.log(ratematrix[t][i]/previous)*multipliers[i])\n",
    "            previous=ratematrix[t][i]\n",
    "    dlgs.append(lgrates)\n",
    "\n",
    "#dlgs is the transpose of what we want - flip it\n",
    "dlgs=np.transpose(dlgs)\n",
    "\n",
    "#Delete any time periods that don't have data\n",
    "lgdates=[]\n",
    "difflgs=[]\n",
    "for t in range(len(dlgs)):\n",
    "    if all(pd.notna(dlgs[t])):\n",
    "        #include this time period\n",
    "        difflgs.append(dlgs[t])\n",
    "        lgdates.append(cdates[t])\n",
    "\n",
    "#Mean vector and covariance matrix are inputs to efficient frontier calculations\n",
    "d=np.array(difflgs)\n",
    "m=np.mean(d,axis=0)\n",
    "c=np.cov(d.T)\n",
    "\n",
    "#display the output\n",
    "#vectors and matrices are in fractional units;\n",
    "#    fraction*100=percent\n",
    "#    fraction*10000=basis point\n",
    "#    (fraction^2)*10000=percent^2\n",
    "np.set_printoptions(precision=4)\n",
    "print(\"Means:\",m*10000,\"bps/day\")\n",
    "print(\"(CHF, GBP, JPY)\\n\")\n",
    "print(\"  \",c[0]*10000)\n",
    "print(\"C=\",c[1]*10000,\"    (4.20)\")\n",
    "print(\"  \",c[2]*10000)\n",
    "print(f'(%/day)\\N{SUPERSCRIPT TWO} units')\n",
    "print(\"  \")\n",
    "print(\"From\",lgdates[0],\"to\",lgdates[-1],\"(\",len(lgdates),\"observations)\")"
   ]
  },
  {
   "cell_type": "markdown",
   "metadata": {},
   "source": [
    "The Swiss franc and the Japanese yen have appreciated versus the dollar since 1971, giving positive daily mean returns. The pound sterling has depreciated.\n",
    "\n",
    "We're going to use the means shown above as the $\\boldsymbol{m}$ vector in our calculations. This is a classic, and fatal, error:\n",
    "><span style=\"color:red\">**we are estimating future characteristics by naively using past characteristics.**</span>\n",
    "\n",
    "We want to form a portfolio today that will carry us into the future. So we want to know the **`expected values`**, not the past sample values, of the mean vector and covariance matrix. Past sample values might be good estimators of expected values if the processes in question were **`stationary`**; that is, if they had unchanging parameters (see section x.x below). But the evidence is overwhelming that financial processes are not stationary over time.\n",
    "\n",
    "Predicting the future from the past without understanding the generating process is doomed to failure. You can jump off a 50-story building and estimate, based on past experience for the first 49 stories, that you have a 100% ability to fly. Shortly after the $49^{th}$ story on the way down you will need to revise this estimate. You need to build gravity and the density of the terrain at the base of the building into your model of your location and health.\n",
    "\n",
    "In fact, using past performance to predict the future is legally discouraged in the US and other jurisdictions. In the US, [the Code of Federal Regulations (17 CFR 230.156)](https://www.gpo.gov/fdsys/pkg/CFR-2003-title17-vol2/pdf/CFR-2003-title17-vol2-sec230-156.pdf) says\n",
    "\n",
    ">Representations about past or future investment performance could be misleading because of statements ... including:\n",
    "<br>- (A) Representations, as to security of capital, possible future gains or income, or expenses associated with an investment;\n",
    "<br>- (B) Representations implying that future gain or income may be inferred from or predicted based on past investment performance; or\n",
    "<br>- (C) Portrayals of past performance, made in a manner which would imply that gains or income realized in the past would be repeated in the future. \n",
    "\n",
    "Of course we need to learn from the past, but often (as with jumping off a building) it’s better to bring in some kind of model (gravity is at work) to predict the future. What we really want are accurate estimates of future means and covariances. We're using past statistics in this example just because it's a convenient way to generate numbers of the right order of magnitude to illustrate the calculations. We'll say more about better estimation methods later in the chapter.\n",
    "\n",
    "For now, we can compute the inverse of $C$ in days/pct$^2$ units:"
   ]
  },
  {
   "cell_type": "code",
   "execution_count": 3,
   "metadata": {},
   "outputs": [
    {
     "name": "stdout",
     "output_type": "stream",
     "text": [
      "     [ 3.4048 -1.9702 -1.2556]\n",
      "C⁻¹= [-1.9702  4.226  -0.1393]     (4.21)\n",
      "     [-1.2556 -0.1393  3.113 ]\n",
      "(days/%)² units\n"
     ]
    }
   ],
   "source": [
    "#invert the c matrix, which is in (fraction/day)^2 units\n",
    "#so ci (c-inverse) is in (days/fraction)^2 units\n",
    "ci=np.linalg.inv(c)\n",
    "print(\"    \",ci[0]/10000)\n",
    "print(f'C\\N{SUPERSCRIPT MINUS}\\N{SUPERSCRIPT ONE}=',ci[1]/10000,\"    (4.21)\")\n",
    "print(\"    \",ci[2]/10000)\n",
    "print(f'(days/%)\\N{SUPERSCRIPT TWO} units')"
   ]
  },
  {
   "cell_type": "markdown",
   "metadata": {},
   "source": [
    "From this we can compute the key quantities $u^{\\prime}C^{-1}u$, $u^{\\prime}C^{-1}m$, and $m^{\\prime}C^{-1}m$:\n"
   ]
  },
  {
   "cell_type": "code",
   "execution_count": 4,
   "metadata": {},
   "outputs": [
    {
     "name": "stdout",
     "output_type": "stream",
     "text": [
      "u'C⁻¹u = 4.013520703645339 (days/%)²\n",
      "u'C⁻¹m = 0.7639500543759743 days\n",
      "m'C⁻¹m = 8.977995216452298 bps\n"
     ]
    }
   ],
   "source": [
    "#sum entries in ci\n",
    "uciu=np.sum(ci)\n",
    "print(f'u\\'C\\N{SUPERSCRIPT MINUS}\\N{SUPERSCRIPT ONE}u =',uciu/10000,\n",
    "      f'(days/%)\\N{SUPERSCRIPT TWO}')\n",
    "\n",
    "ucim=np.sum(np.matmul(ci,m))\n",
    "print(f'u\\'C\\N{SUPERSCRIPT MINUS}\\N{SUPERSCRIPT ONE}m =',ucim,\n",
    "      'days')\n",
    "mcim=np.matmul(m,np.matmul(ci,m))\n",
    "print(f'm\\'C\\N{SUPERSCRIPT MINUS}\\N{SUPERSCRIPT ONE}m =',mcim*10000,\n",
    "      'bps')"
   ]
  },
  {
   "cell_type": "markdown",
   "metadata": {},
   "source": [
    "Filling in these data in equations \\eqref{eq:equal_frontier_two_fund}, \\eqref{eq:equal_frontier_mu}, and \\eqref{eq:equal_frontier_sigma} gives the numbers for our 3-currency example portfolio. Here $\\sigma=\\sqrt{w^{\\prime}Cw}$ is the standard deviation of the efficient portfolio $\\boldsymbol{w}$:"
   ]
  },
  {
   "cell_type": "code",
   "execution_count": 5,
   "metadata": {},
   "outputs": [
    {
     "name": "stdout",
     "output_type": "stream",
     "text": [
      "w'=λ₁ [ 3.9275 -5.2086  1.2812] + [0.0446 0.5273 0.4281]     (4.15)#\n",
      "μ=(λ₁ * 8.832581817923925 )+ 0.19034411699486328  bps/day    (4.18)#\n",
      "σ=sqrt(λ₁² * 8.832581817923925 + 0.24915780279686497 ) (%/day)   (4.19)#\n"
     ]
    }
   ],
   "source": [
    "#Vectors for equation 4.15\n",
    "u=[1]*3\n",
    "vec2=np.matmul(ci,u)/uciu\n",
    "vec1=np.subtract(np.matmul(ci,m),vec2*ucim)\n",
    "print(f\"w'=λ\\N{SUBSCRIPT ONE}\",vec1,\"+\",vec2,\"    (4.15)#\")\n",
    "\n",
    "lambdacoeff=(uciu*mcim-ucim*ucim)/uciu\n",
    "constmu=ucim/uciu\n",
    "print(f'μ=(λ\\N{SUBSCRIPT ONE} *',lambdacoeff*10000,\")+\",constmu*10000,\" bps/day    (4.18)#\")\n",
    "\n",
    "print(f'σ=sqrt(λ\\N{SUBSCRIPT ONE}\\N{SUPERSCRIPT TWO} *',lambdacoeff*10000,'+',10000/uciu,') (%/day)   (4.19)#')"
   ]
  },
  {
   "cell_type": "markdown",
   "metadata": {},
   "source": [
    "Note the vector coefficient of $\\lambda_1$ in \\eqref{eq:equal_frontier_two_fund}# has total weight zero (w/roundoff), and the constant vector in \\eqref{eq:equal_frontier_two_fund}# has total weight one; it is the global minimum variance solution.\n",
    "\n",
    "In that solution, pounds sterling (the middle coefficient) have the highest weight. From (4.20) we can see that pounds had the lowest variance, but that alone does not explain why they have the highest weight. There are also second-order effects from correlations with the other currencies. The minimum variance portfolio has a variance that is even lower than the pound's variance.\n",
    "\n",
    "This shows that _diversification_ is a key aspect of portfolio construction – if everything were linear as it is with returns we would have only pounds in the minimum variance solution. We don’t because of the quadratic balancing act. Figure 4.2 is the classic efficient frontier graph:"
   ]
  },
  {
   "cell_type": "code",
   "execution_count": 6,
   "metadata": {},
   "outputs": [
    {
     "data": {
      "image/png": "[encoded data removed]",
      "text/plain": [
       "<Figure size 432x288 with 1 Axes>"
      ]
     },
     "metadata": {
      "needs_background": "light"
     },
     "output_type": "display_data"
    }
   ],
   "source": [
    "#Draw graph of simple efficient frontier\n",
    "lambda1s=np.arange(0,1.01,.01)\n",
    "xrisk=100*np.sqrt(lambdacoeff*lambda1s**2+1/uciu)   #Multiply by 100 for percent/day unites\n",
    "yreturn=10000*(lambdacoeff*lambda1s+constmu)        #Multiply by 10000 for bp units\n",
    "\n",
    "plt.figure(1)\n",
    "plt.plot(xrisk,yreturn,marker='2')\n",
    "plt.title(\"Figure 4.2: Franc, Pound, Yen Efficient Frontier\")\n",
    "plt.xlabel(\"Standard Deviation (pct/day)\")\n",
    "plt.ylabel(\"Return (bps/day)\")\n",
    "plt.xlim(0,max(xrisk)+.5)\n",
    "plt.grid()\n",
    "plt.show();"
   ]
  },
  {
   "cell_type": "markdown",
   "metadata": {},
   "source": [
    "The global minimum variance portfolio in this example has positive weights as we saw in \\eqref{eq:equal_frontier_two_fund}#. From the negative middle entry in the vector multiplying $\\lambda_1$ in \\eqref{eq:equal_frontier_two_fund}#, we can see that the weight of the pound will go negative as $\\lambda_1$ gets larger:"
   ]
  },
  {
   "cell_type": "code",
   "execution_count": 7,
   "metadata": {},
   "outputs": [
    {
     "name": "stdout",
     "output_type": "stream",
     "text": [
      "Pound weight goes negative at λ₁= 0.10124156749680864\n",
      "At that point μ= 1.0845685452852931  bps/day\n",
      "and σ= 58.28297226557047  bps/day\n"
     ]
    }
   ],
   "source": [
    "print(f'Pound weight goes negative at λ\\N{SUBSCRIPT ONE}=',-vec2[1]/vec1[1])\n",
    "print('At that point μ=',-10000*lambdacoeff*vec2[1]/vec1[1]+10000*constmu,' bps/day')\n",
    "print('and σ=',10000*np.sqrt(lambdacoeff*(vec2[1]/vec1[1])**2+1/uciu),' bps/day')"
   ]
  },
  {
   "cell_type": "markdown",
   "metadata": {},
   "source": [
    "### 4.1.3 Inequality Constraints\n",
    "\n",
    "Then as $\\lambda_1\\rightarrow\\infty$, we borrow more and more pounds to fund investments in francs and yen, heading off to an infinite expected return. Figure 4.2 stops at $\\lambda_1=1$, but it could keep going.\n",
    "\n",
    "But letting $\\lambda_1$ get arbitrarily large isn't a sensible thing to do. If we start with a dollar, borrow a billion dollars worth of pounds and buy a billion and one dollars of francs&yen, then the slightest disturbance in the relationships between francs, yen and pounds will bankrupt us. We can’t treat our estimated means and covariances as certainties and place infinite reliance on their accuracy.\n",
    "\n",
    "Even if they were certain, we would have an absorbing barrier problem in the interim. That is, we can't have a net worth below zero; that's the definition of bankruptcy. We can draw a line on a graph that starts at \\\\$1, meanders down to -\\\\$0.10, and ends up at (positive) \\\\$3. But in reality, as soon as the line goes below zero, the entity represented by the line &mdash; a company, a fund, an investment &mdash; is bankrupt and will stop operating. That's similar to an absorbing barrier in physics, where a particle can meander only up to the point where it hits the sides of a container.\n",
    "\n",
    "The mean-variance efficient frontier problem is often specified with the additional constraint that all weights must be non-negative. This changes the problem from one that can be solved in closed form to one that can be solved using a quadratic programming algorithm:\n",
    "$$\\text{Minimize } -\\lambda m^{\\prime}w + \\frac{1}{2}w^{\\prime}Cw$$\n",
    "$$\\text{Subject to } w^{\\prime}u=1 \\text{, each element of } w\\geq0\\label{eq:inequality_frontier}\\tag{4.22}$$\n",
    "In addition to the non-negative constraint, we have restated the problem slightly by building in a parameter $\\lambda$ instead of a target mean $\\mu$. This is the same idea as flipping \\eqref{eq:equal_frontier_lambda_one} to \\eqref{eq:equal_frontier_mu}. When $\\lambda=0$, we solve for the global minimum variance portfolio. As $\\lambda$ increases, we care more and more about return maximization and less and less about variance minimization. Thus $\\lambda$ is a risk tolerance parameter &mdash; something like the [coefficient of absolute risk tolerance](#coeff_abs_risk_tolerance).\n",
    "\n",
    "The solution to the long-only optimization \\eqref{eq:inequality_frontier} is a piecewise series of solutions to the equality-constrained frontier \\eqref{eq:equal_frontier_mu} and \\eqref{eq:equal_frontier_sigma}. In the Franc/Pound/Yen frontier, for example, the equality-contrained minimum variance portfolio has all positive weights so it is also a solution to \\eqref{eq:inequality_frontier}. The frontiers continue to coincide until the weight on the pound sterling goes to zero. Then the solution to \\eqref{eq:inequality_frontier} is the efficient frontier consisting only of the Swiss franc and the Japanese yen, shown in orange in Figure 4.3 below. Eventually the Swiss franc (the highest-returning single asset) becomes the whole portfolio and the \\eqref{eq:inequality_frontier} long-only frontier stops."
   ]
  },
  {
   "cell_type": "code",
   "execution_count": 8,
   "metadata": {},
   "outputs": [
    {
     "data": {
      "image/png": "[encoded data removed]",
      "text/plain": [
       "<Figure size 432x288 with 1 Axes>"
      ]
     },
     "metadata": {
      "needs_background": "light"
     },
     "output_type": "display_data"
    }
   ],
   "source": [
    "#Draw graph of long-only efficient frontier\n",
    "#Segment with pounds\n",
    "lambda_nopound=-vec2[1]/vec1[1]\n",
    "lambda1s=np.arange(0,lambda_nopound,.01)\n",
    "lambda1s=np.append(lambda1s,lambda_nopound)\n",
    "x1=100*np.sqrt(lambdacoeff*lambda1s**2+1/uciu)   #Multiply by 100 for percent/day units\n",
    "y1=10000*(lambdacoeff*lambda1s+constmu)        #Multiply by 10000 for bp units\n",
    "\n",
    "#Get franc/yen portfolio at the point where pounds disappear\n",
    "vec3=lambda_nopound*vec1+vec2\n",
    "#rest of frontier decreases yen and increases francs\n",
    "x2=[]\n",
    "y2=[]\n",
    "deltas=np.arange(0,vec3[2]*1.01,vec3[2]/100.)\n",
    "for delta in deltas:\n",
    "    newvec=vec3+[delta,0,-delta]\n",
    "    y2.append(10000*np.matmul(newvec,m))\n",
    "    x2.append(100*np.sqrt(np.matmul(np.matmul(newvec,c),newvec)))\n",
    "\n",
    "plt.figure(1)\n",
    "plt.plot(x1,y1,marker='2')\n",
    "plt.plot(x2,y2,marker='1')\n",
    "plt.title(\"Figure 4.3: Long-only Efficient Frontier (4.22)\")\n",
    "plt.xlabel(\"Standard Deviation (pct/day)\")\n",
    "plt.ylabel(\"Return (bps/day)\")\n",
    "plt.xlim(0,max(x2)+.5)\n",
    "plt.grid()\n",
    "plt.show();"
   ]
  },
  {
   "cell_type": "markdown",
   "metadata": {},
   "source": [
    "### 4.1.4 Efficient Frontier and Utility Functions\n",
    "\n",
    "The connection between portfolios that maximize utility functions and portfolios on the Markowitz efficient frontier is close but not perfect. For example, [L. B. Pulley, \"Mean-Variance Approximations to Expected Logarithmic Utility\"](https://www.jstor.org/stable/170783) concludes\n",
    ">...investors maximizing expected logarithmic utility would hold virtually the same portfolios as investors maximizing certain mean-variance functions.\n",
    "\n",
    "Similarly in a 1984 paper, [Kroll, Levy and Markowitz](https://doi.org/10.2307/2327667) concluded\n",
    ">for various utility functions and the historical returns on 3 different sets of securities, when a portfolio may be chosen from any of the infinite number of portfolios of the standard constraint set, the best mean-variance efficient portfolio has almost maximum obtainable expected utility.\n",
    "\n",
    "One way of making the connection between utility functions and the Markowitz efficient frontier objective function is to consider a quadratic one-period risk-averse utility function on returns, i.e. one that looks like $u(z)=-z^2+az$, $a>0$. The coefficient of absolute risk aversion is $2/(a-2z)$ so this is risk-averse when $z<a/2$. That is, $u(z)$ “likes” more return for a while, but if the shock is too big (negative or positive), it gets unhappy.\n",
    "\n",
    "The investor wants to maximize the expected utility of returns:\n",
    "$$\\mathbb{E}[u(r^{\\prime}w)]=\\mathbb{E}[-(r^{\\prime}w)^2+a\\cdot r^{\\prime}w]=-w^{\\prime}\\mathbb{E}[rr^{\\prime}]w+aw^{\\prime}\\mathbb{E}[r]$$\n",
    "where $r$ is the random vector of one-period returns. We have already defined the mean vector $m=\\mathbb{E}[r]$ and the covariance matrix $C=\\mathbb{E}[(r-m)(r-m)^{\\prime}]$. Thus\n",
    "$$C=\\mathbb{E}[rr^{\\prime}-2rm^{\\prime}+mm^{\\prime}]=E[rr^{\\prime}]-mm^{\\prime}$$\n",
    "\n",
    "So we have\n",
    "$$\\mathbb{E}[u(r^{\\prime}w)]=-w^{\\prime}Cw-(w^{\\prime}m)^2+aw^{\\prime}m$$\n",
    "\n",
    "This is similar to the Markowitz objective function \\eqref{eq:inequality_frontier} (with $a=2\\lambda$ and a change of sign) &mdash; although the covariance matrix is not de-meaned."
   ]
  },
  {
   "cell_type": "markdown",
   "metadata": {},
   "source": [
    "### 4.1.5 The Capital Market Line\n",
    "\n",
    "The _capital market line_ is derived from the efficient frontier by the addition of a risk-free asset, i.e. a US Treasury or other instrument paying the risk-free rate that we discussed in Chapter 3. We assume the risk-free asset is nonstochastic, so it has no variance and no correlation with anything, including itself.\n",
    "\n",
    "We can look for an efficient frontier in the usual way and just add the risk-free asset to our universe. However this will make our covariance matrix singular. The usual convention is to separate out the risk-free asset, which has a return $r_f$. For example, consider the franc, yen, pound efficient frontier. We zoom in to the beginning of the frontier and add a risk-free asset at (0,.1), i.e. $r_f=.1$bps/day."
   ]
  },
  {
   "cell_type": "code",
   "execution_count": 9,
   "metadata": {},
   "outputs": [
    {
     "data": {
      "image/png": "[encoded data removed]",
      "text/plain": [
       "<Figure size 432x288 with 1 Axes>"
      ]
     },
     "metadata": {
      "needs_background": "light"
     },
     "output_type": "display_data"
    }
   ],
   "source": [
    "#Add a risk-free asset at .1 bps/day\n",
    "rfrate=10**(-5)\n",
    "plt.figure(2)\n",
    "plt.plot(xrisk,yreturn,marker='2')\n",
    "plt.title(\"Figure 4.4: Beginning of Franc, Pound, Yen Efficient Frontier\")\n",
    "plt.xlabel(\"Standard Deviation (pct/day)\")\n",
    "plt.ylabel(\"Return (bps/day)\")\n",
    "plt.xlim(0,1)\n",
    "plt.ylim(-.1,3.5)\n",
    "plt.annotate('Riskfree asset (0,'+str(10000*rfrate)+')', xy=(0, 10000*rfrate),\n",
    "             xytext=(.2, 1),\n",
    "            arrowprops=dict(facecolor='black', shrink=0.05),\n",
    "            )\n",
    "plt.grid()\n",
    "plt.show();"
   ]
  },
  {
   "cell_type": "markdown",
   "metadata": {},
   "source": [
    "We can now be more efficient than the (old) efficient frontier. A straight line that runs between the risk-free asset at $(0,r_f)$ and some point $(x,y)$ that is on the efficient frontier where $y\\geq r_f$ will lie above the efficient frontier until $(x,y)$. That line just represents linear combinations of the efficient portfolio at $(x,y)$ and a portfolio consisting only of the risk-free asset.\n",
    "\n",
    "In fact if we choose the tangency point where the slope of the line from $(0,r_f)$ to the efficient frontier just touches the top of the frontier, the will always be above the frontier. That optimal line is the new (including risk-free) efficient frontier and is called the **`capital market line`**. The two-fund separation theorem that we saw in formula \\eqref{eq:equal_frontier_two_fund} now becomes even simpler: the new efficient portfolios are linear combinations of the risk-free asset and the tangency portfolio.\n",
    "\n",
    "To compute the capital market line, note that equations \\eqref{eq:equal_frontier_mu} and \\eqref{eq:equal_frontier_sigma} specify the old efficient frontier; \\eqref{eq:equal_frontier_mu} is the y coordinate and \\eqref{eq:equal_frontier_sigma} is the x coordinate. Taking the slope with the chain rule, we see that $\\frac{dy}{dx}=\\frac{x}{\\lambda_1}$. For tangency, this slope must equal $\\frac{y-r_f}{x}$, which is the slope of the line between $(x,y)$ and the risk-free asset’s representation.\n",
    "\n",
    "Solving for $\\lambda_1$ gives $\\lambda_1=\\frac{1}{u^{\\prime}C^{-1}m - r_f(u^{\\prime}C^{-1}u)}$. Putting this $\\lambda_1$ into \\eqref{eq:equal_frontier_lagrange} gives the tangency portfolio $w_{tp}$:\n",
    "$$w_{tp}=\\frac{C^{-1}(m-r_f u)}{u^{\\prime}C^{-1}m - r_f(u^{\\prime}C^{-1}u)}=\\frac{C^{-1}m_e}{u^{\\prime}C^{-1}m_e}\\tag{4.30}$$\n",
    "where $m_e$ is the excess (over riskfree) return vector $m_e=m-r_f u$.\n",
    "\n",
    "<a><a name=\"sharpe_ratio\"></a>\n",
    "A portfolio $w$’s [_Sharpe Ratio_](https://doi.org/10.3905%2Fjpm.1994.409501) is $\\frac{w^{\\prime}m-r_f}{\\sqrt{w^{\\prime}Cw}}$, i.e. its excess expected mean return divided by its standard deviation. Note that in the mean/standard deviation graphs we have been drawing, the slope of a line that goes through the point $(0,r_f)$ is the Sharpe ratio of portfolios on that line. Thus the maximum Sharpe ratio efficient portfolio is the tangency portfolio; to see this, visualize the set of lines from $(0,r_f)$ to points on the efficient frontier.\n",
    "\n",
    "The tangency (best efficient Sharpe ratio) portfolio has an excess expected return equal to\n",
    "$$w_{tp}^{\\prime}m_e=\\frac{m_e^{\\prime}C^{-1}m_e}{u^{\\prime}C^{-1}m_e}\\tag{4.31}$$\n",
    "and a standard deviation\n",
    "$$\\sqrt{w_{tp}^{\\prime}Cw_{tp}}=\\frac{\\sqrt{m_e^{\\prime}C^{-1}m_e}}{u^{\\prime}C^{-1}m_e}\\tag{4.32}$$\n",
    "Thus the Sharpe ratio of the tangency portfolio is\n",
    "$$Sharpe(w_{tp})=\\sqrt{m_e^{\\prime}C^{-1}m_e}$$\n",
    "\n",
    "If we go back to our currency example and add a risk-free asset with $r_f=.1$bp/day, the tangency portfolio looks like this:"
   ]
  },
  {
   "cell_type": "code",
   "execution_count": 10,
   "metadata": {},
   "outputs": [
    {
     "name": "stdout",
     "output_type": "stream",
     "text": [
      "Tangency portfolio: [ 10.8761 -13.8375   3.9613]\n",
      "TP μ= 24.549502764841208  bps/day\n",
      "TP σ= 8.211496706358439  pct/day\n",
      "λ₁ at tangency: 2.757875233990405\n"
     ]
    }
   ],
   "source": [
    "#Print the tangency portfolio\n",
    "rfvec=[rfrate]*3\n",
    "tangencyport=np.matmul(ci,m-rfvec)/(ucim-rfrate*uciu)\n",
    "print('Tangency portfolio:',tangencyport)\n",
    "#Solve for the lambda1 at tangency\n",
    "mutp=np.matmul(tangencyport,m.T)\n",
    "sigmatp=np.sqrt(np.matmul(np.matmul(tangencyport,c),tangencyport.T))\n",
    "tpl1=(mutp-constmu)/lambdacoeff\n",
    "print('TP μ=',mutp*10000,' bps/day')\n",
    "print('TP σ=',sigmatp*100,' pct/day')\n",
    "print(f\"λ\\N{SUBSCRIPT ONE} at tangency:\",tpl1)"
   ]
  },
  {
   "cell_type": "markdown",
   "metadata": {},
   "source": [
    "Drawing the line between the riskfree rate on the y axis and the tangency portfolio gives the orange capital market line in Figure 4.5:"
   ]
  },
  {
   "cell_type": "code",
   "execution_count": 11,
   "metadata": {},
   "outputs": [
    {
     "data": {
      "image/png": "[encoded data removed]",
      "text/plain": [
       "<Figure size 432x288 with 1 Axes>"
      ]
     },
     "metadata": {
      "needs_background": "light"
     },
     "output_type": "display_data"
    }
   ],
   "source": [
    "#Show capital market line\n",
    "#Extend frontier\n",
    "lambda1s=np.arange(0,tpl1+.5,.01)\n",
    "xrisk=100*np.sqrt(lambdacoeff*lambda1s**2+1/uciu)\n",
    "yreturn=10000*(lambdacoeff*lambda1s+constmu)\n",
    "\n",
    "#Compute line\n",
    "x=np.arange(0,max(xrisk),.01)\n",
    "y=100*((mutp-rfrate)/sigmatp)*x+10000*rfrate\n",
    "\n",
    "plt.figure(3)\n",
    "plt.plot(xrisk,yreturn)\n",
    "plt.plot(x,y)\n",
    "plt.annotate('Tangency portfolio', xy=(sigmatp*100, mutp*10000),\n",
    "             xytext=(1,mutp*10000),\n",
    "            arrowprops=dict(facecolor='black', shrink=0.05),\n",
    "            )\n",
    "plt.title(\"Figure 4.5: Capital Market Line + Franc, Pound, Yen Efficient Frontier\")\n",
    "plt.xlabel(\"Standard Deviation (pct/day)\")\n",
    "plt.ylabel(\"Return (bps/day)\")\n",
    "plt.xlim(0,max(xrisk)+.5)\n",
    "plt.grid()\n",
    "plt.show;"
   ]
  },
  {
   "cell_type": "markdown",
   "metadata": {},
   "source": [
    "The efficient frontier in Figure 4.5 is near-linear by the time the capital market line touches it, so there is little difference between the capital market line and the original efficient frontier in this example. When the efficient frontier has more nonlinear shape &mdash; for example as a result of multiple constraints &mdash; there can be more separation between the capital market line and the efficient frontier"
   ]
  },
  {
   "cell_type": "markdown",
   "metadata": {},
   "source": [
    "### 4.1.6 Benchmark-Relative\n",
    "\n",
    "As a practical matter, many investment vehicles are constrained to invest in certain segments of the capital markets. For example, a mutual fund may advertise that it is a \"large-cap US equity fund.\" Investors who favor big US companies can give a sum of money to the mutual fund manager, and the manager will decide which big US companies to buy with that money. The manager would be amiss &mdash; and legally culpable &mdash; if it didn't mostly[$^1$](#four_footnotes) invest its investors' money in big US companies; to do otherwise would be false advertising. By the same token, investors can hardly blame the manager if big US stocks generally do poorly; they knew what they were getting into.\n",
    "\n",
    "This situation is usually handled with a _benchmark portfolio_. Benchmark portfolios are often constructed by institutions that publish transparent benchmark composition rules intended to select certain market segments mechanically. For example, the FTSE/Russell company publishes the [Russell 1000&reg;](https://www.ftse.com/products/indices/russell-us) index of the one thousand largest stocks in Russell's universe; this is widely used as a large-cap US equity benchmark.\n",
    "\n",
    "Risk is then redefined to be relative to the benchmark $b$; in our example $b=$Russell 1000&reg;, which itself would be considered to have no risk, while cash would have quite a lot of risk. Rather than $\\sqrt{w^{\\prime}Cw}$, the relevant volatility would be $\\sqrt{(w-b)^{\\prime}C(w-b)}$; this benchmark-relative volatility is called _tracking error_. The objective function in an optimization like \\eqref{eq:inequality_frontier} would change to $-\\lambda m^{\\prime}(w-b) + \\frac{1}{2}(w-b)^{\\prime}C(w-b)$.\n",
    "\n",
    "<a><a name=\"information_ratio\"></a>\n",
    "The equivalent of a [Sharpe Ratio](#sharpe_ratio) in a benchmark-relative context is an _information ratio_; it is defined as $\\frac{(w-b)^{\\prime}m}{\\sqrt{(w-b)^{\\prime}C(w-b)}}$. An information ratio is a Sharpe Ratio where the benchmark is the riskfree asset: since in theory there is no variance or covariance in the riskfree asset, $(w-b_{r_f})^{\\prime}C(w-b_{r_f})=w^{\\prime}Cw$ so in theory the denominator of the information ratio equals the denominator of the Sharpe Ratio when the benchmark is the riskfree asset. In practice the riskfree rate changes over time and some historical calculations of Sharpe ratios subtract off the riskfree rate."
   ]
  },
  {
   "cell_type": "markdown",
   "metadata": {},
   "source": [
    "### 4.1.7 Efficient Frontiers: Theory and Practice\n",
    "\n",
    "While Markowitz started the field of quantitative finance and his work was revolutionary, investors quickly found that it often didn’t work as well as the qualitative methods they were using before 1952. One problem is that the quadratic optimization process doesn’t know that the numbers (means, covariances) it is given can be wrong. While a human would be skeptical about large, too-good-to-be-true returns, the optimization process is likely to put a heavy weight on a security with a too-good-to-be-true return.\n",
    "\n",
    "Even realistic returns can lead to unrealistic results. A human would think that the difference between two securities, both with very similar covariances to the rest of the universe, and one with a mean of 1.12345 and the other 1.12346, was random. It wouldn't make much difference if you were buying one or the other. But as we noted when discussing [frontier leverage](#frontier_leverage), if you're buying one and selling the other, then any small difference between securities can be exploited with enough leverage. An unconstrained optimizer would go massively long the higher return one and massively short the lower, thereby multiplying random estimation errors.\n",
    "\n",
    "In fact most of our currency example efficient frontier was highly leveraged and would be unattainable with the long only constraint; most of the “results” could be suspect. Thus, as we’ve already noted, in many cases holdings are constrained to be long only; this stops solutions from having any leverage. \n",
    "\n",
    "Despite the problems with naively using past statistics to predict the future, past (sample) covariance matrices are often used to estimate expected covariances. In fact a great deal of effort has been spent on understanding how covariances change over time; we'll discuss these efforts in Chapters x and y below. But covariances are less variable than sample mean returns. So there are a number of estimation methods that start with sample covariance matrices and then try to modify them so they are better predictors.\n",
    "\n",
    "Sample covariance matrices are, by construction, at least positive semidefinite and possibly positive definite. We need $n$ time periods of observation to make an $n\\times n$ covariance matrix nonsingular, but even if we have that many periods we still might not have a rich set of data for each entry. There are $n+1\\choose 2$ different numbers in a covariance matrix. In every time period we observe $n$ rates of return. So if we have $t$ periods of observations, the number of observables per covariance is $\\frac{2t}{n+1}$. For example, for the Russell 1000&reg; index, we would need 5005 time periods if we wanted to have a not very impressive ten observations per covariance.\n",
    "\n",
    "5005 observations is about twenty years at a daily periodicity, which limits the number of companies that can be considered, as many do not have public trading data for that long. Too, daily observations are only valid for the most heavily traded stocks; a lightly traded stock may not have any meaningful trading activity after (say) 2PM, while more heavily traded stocks continue trading (and reacting to news) until 4PM. The day's return on the lightly traded stock is then asynchronous with the day's returns on more heavily traded stocks. That in turn can lead to misleadingly low correlations. Longer periodicities, like monthly, are often used to address this problem. A few hours of missing price movements out of a month is less noticeable than a few hours missing from a day. But at a monthly periodicity, any sample covariance matrix of the Russell 1000&reg; will be singular. That in turn causes problems with solving optimizations like \\eqref{eq:equal_frontier}, which will no longer have a unique solution.\n",
    "\n",
    "Even when covariance matrices aren't singular, they can have problems. The _condition number_ of a matrix is the ratio of its largest eigenvalue to its smallest eigenvalue. The larger the condition number, the more likely it is that a very small change in input variables (means and covariances) can make a very large change in output variables (weights of the optimal solution). \n",
    "\n",
    "Because of the generally poor quality of covariance matrices, most users of optimizers put bounds on many quantities in addition to long-only (or not-too-short) constraints. Individual holdings usually have concentration limits – e.g. no single stock can occupy more than 5% of the portfolio. If the optimization is benchmark-relative, then constraints like “every security must be within plus or minus 2% of the benchmark’s weight in that security\" can be set. Constraints are often placed on other relevant characteristics like industries, countries, property types (in real estate portfolios), and duration/credit quality (in fixed income portfolios).\n",
    "\n",
    "Setting limits produces sensible portfolios, since the limits are set sensibly. But in effect it gives the answer to the optimizer – if the user is not careful, an optimizer can become a [smokescreen for the judgments of the human who put in very restrictive limits](https://www.jstor.org/stable/4479185)"
   ]
  },
  {
   "cell_type": "markdown",
   "metadata": {},
   "source": [
    "## 4.2 Review of Bayes' Rule\n",
    "\n",
    "We'll now turn our attention to some of the practical approaches to estimating the parameters $m$ and $C$ used in the construction of efficient portfolios. Many of them rely on Bayes' Rule, which we'll now briefly review.\n",
    "\n",
    "Bayes' Rule is simple to state:\n",
    "$$Pr(E\\mid F)=\\frac{Pr(F\\mid E)Pr(E)}{Pr(F)}$$\n",
    "It is essentially a restatement of the definition of conditional probability in \\eqref{eq:condprob}. Despite this uncomplicated derivation, Bayes' Rule is profound. We'll walk through an example to get an intuitive feel for Bayes' Rule.\n",
    "\n",
    "Suppose you suspect you have a rare disease that makes you forget your personal utility function. Fortunately there's a very accurate test for this condition. You go to the doctor and take the test, which comes back positive. You are now terrified that if you should run into some [Generous Billionaires](#generous_billionaires), you won't know what to do. You contemplate entering an intensive (and expensive) treatment program for the condition. Should you?\n",
    "\n",
    "We need to be more precise: by \"rare,\" we mean that only one in ten thousand people has the disease. And by \"very accurate,\" we mean that the test is right 99% of the time.\n",
    "\n",
    "The relevant outcome space $\\Omega$ in this case is the set of roughly 7.5 billion people in the world. $\\Omega$ can be divided into four disjoint events:\n",
    "- People with positive test results who have the disease;\n",
    "- People with positive test results who don't have the disease;\n",
    "- People with negative test results who have the disease; and\n",
    "- People with negative test results who don't have the disease.\n",
    "\n",
    "From the $10^{-4}$ probability of having the disease, we know that 750,000 people in the world have the disease. This allows us to start filling in a table:\n",
    "\n",
    "| Outcomes |  Have Disease |  Don't Have |  Total  |\n",
    "|----------|:-------------:|------------:|:-------:|\n",
    "| Test+    |               |             |         |\n",
    "| Test-    |               |             |         |\n",
    "| Total    |  750,000      | ~7.499Bn    |  7.5Bn  |\n",
    "\n",
    "Of the 750,000 who have the disease, 99% are properly diagnosed and 1% (7,500) are misdiagnosed as not having the disease. Similarly for the 7.499Bn who don't have the disease. So we can completely fill in the table:\n",
    "\n",
    "| Outcomes |  Have Disease |  Don't Have   |     Total     |\n",
    "|----------|:-------------:|--------------:|:-------------:|\n",
    "| Test+    |  742,500      |  74,992,500   |   75,735,000  |\n",
    "| Test-    |    7,500      | 7,424,257,500 | 7,424,265,000 |\n",
    "| Total    |  750,000      | 7,499,250,000 | 7,500,000,000 |\n",
    "\n",
    "With a positive test result, you are in the Test+ row. But the vast majority of people with a positive test score are test mistakes in the \"don't have\" column. In fact even with a positive test result, your chance of having the disease is only 1%.\n",
    "\n",
    "If $n=|\\Omega|$ is the size of the outcome space, then we know\n",
    "- Event E (have disease) has size $10^{-4}n=750,000$.\n",
    "- Event W (wrong test result) has size $10^{-2}n=75,000,000$\n",
    "- Event F (positive test result) has size $(10^{-2}+10^{-4}-2\\cdot10^{-6})n=75,735,000$   \n",
    "Event F's size is not directly given but is computed from the first row of the 2x2 matrix.\n",
    "\n",
    "| Outcomes |  Have Disease | &nbsp; &nbsp; &nbsp; &nbsp; &nbsp; &nbsp; &nbsp; &nbsp; Don't Have &nbsp; &nbsp; &nbsp; &nbsp; &nbsp; &nbsp; &nbsp; &nbsp;                            | &nbsp; &nbsp; &nbsp; &nbsp; &nbsp; &nbsp; &nbsp; &nbsp;     Total     |\n",
    "|----------|:-------------:|------------------------------------:|:--------------------:|\n",
    "| Test+    |  $E\\cap F$    |  $(\\Omega\\setminus E)\\cap F$                     |   $F$  |\n",
    "| Test-    | $E\\cap (\\Omega\\setminus F)$      |                 $(\\Omega\\setminus E)\\cap (\\Omega\\setminus F)$     | $\\Omega\\setminus F$\n",
    "| Total    |  $E$      | $\\Omega\\setminus E$                     | $\\Omega$ |\n",
    "\n",
    "In terms of probabilities, $p_E=10^{-4}$ is the probability of having the disease, and $p_W=10^{-2}$ is the probability of a wrong test result. Then the table looks like:\n",
    "\n",
    "| Outcomes |  Have Disease | &nbsp; &nbsp; &nbsp; &nbsp; &nbsp; &nbsp; &nbsp; &nbsp; Don't Have &nbsp; &nbsp; &nbsp; &nbsp; &nbsp; &nbsp; &nbsp; &nbsp;                            | &nbsp; &nbsp; &nbsp; &nbsp; &nbsp; &nbsp; &nbsp; &nbsp; &nbsp; &nbsp; &nbsp; &nbsp; &nbsp; &nbsp; &nbsp; &nbsp; &nbsp; &nbsp; &nbsp; &nbsp; &nbsp; &nbsp; &nbsp; &nbsp;    Total     |\n",
    "|----------|:-------------:|------------------------------------:|:--------------------:|\n",
    "| Test+    |  $p_E(1-p_W)$    |  $(1-p_E)p_W$                     |   $p_F=p_E+p_W-2p_E p_W$  |\n",
    "| Test-    | $p_Ep_W$      |                 $(1-p_E)(1-p_W)$     | $1-p_E-p_W+2p_E p_W$\n",
    "| Total    |  $p_E$      | $1-p_E$                     | $1$ |\n",
    "\n",
    "In our example, we wanted to know the probability of having the utility-forgetting disease (event E) given that we had observed a positive test result (event F). Event E is called the _prior_ – what you believed to be true before new information came in. So you believed that the chance of having utility-forgetting disease was very small (.01%) before taking the test.\n",
    "\n",
    "Event F is the _update_: a positive test result. As we saw, from the fact that the test is wrong $p_W=.01$ of the time and the fact that $p_E=10^{-4}$, we could compute $p_F=p_E+p_W-2p_E p_W=.010098$. The conditional probability $Pr(F\\mid E)$=probability positive test result given you have the disease is 99% because the test is 99% accurate independently of whether or not you have the disease. Putting it together, we get $Pr(E\\mid F)$=probability of disease given positive test result$=.99*.0001/.010098=.009804$, or a little less than 1% as we saw.\n",
    "\n",
    "Bayes Theorem is due to Thomas Bayes, who lived from 1701-1761. It is far ahead of its time in its clever use of existing information (e.g. utility-forgetting-disease is rare); new information (test results); and probability theory. This is especially clever because probability theory, at least as we know it today, didn’t exist in the early 1700’s. Of course the general concept of odds, such as in the Bernoullis’ discussion of St. Petersburg paradox, existed then. But the formal framework including sample spaces, σ-algebras, and probability measures was a few hundred years in the future."
   ]
  },
  {
   "cell_type": "markdown",
   "metadata": {},
   "source": [
    "### 4.2.1 Shrinkage Estimators\n",
    "\n",
    "Practitioners often use methods intended to improve parameter estimates, sometimes in conjunction with proprietary views on the future direction of markets. Many such methods take the form of _shrinkage estimators_. The general idea is similar to Bayes’ Rule: we have some kind of prior belief about a quantity we are trying to estimate, and we “shrink” the deviations from the prior in some way. Often the prior is _centralized_, meaning it is based on some kind of marketwide average value.\n",
    "\n",
    "An example of a centralized prior for an efficient portfolio is the vector $w=\\frac{1}{n}u$; which indicates that everything in the universe is of equal importance without knowing anything about means and covariances. [Bouchard, Potters & Aguilar](https://arxiv.org/abs/cond-mat/9707042)[$^2$](#four-footnotes) had this prior in mind when they suggested maximizing a nonparametric portfolio diversification measure like entropy:\n",
    "$$\\exp\\bigl(-\\sum{w_i\\cdot ln(w_i)}\\bigr)$$\n",
    "or an inverse [Herfindahl-Hirschman](https://www.jstor.org/stable/1818582) index\n",
    "$$\\frac{1}{\\sum{w_i^2}}=\\frac{1}{w^{\\prime}w}$$\n",
    "Here $w_i$ are the scalar components of the portfolio vector $w$, where as usual $w^{\\prime}u=1$. For both metrics, the worst case is the intuitively most concentrated: one $w_i=1$ and the others equal to zero. Both measures equal one in that case. If $w\\geq 0$, then for both measures the best case (where the measures equal $n$) is $w_i=1/n$ (in vectors, $w=\\frac{1}{n}u$).\n",
    "\n",
    "The Bouchard, Potters & Aguilar suggestion was to add one of the diversification measures to the portfolio optimization problem, so for example the objective in \\eqref{eq:inequality_frontier} would be changed to\n",
    "$$\\text{Minimize } -\\lambda m^{\\prime}w + \\frac{1}{2}w^{\\prime}\\bigl(C+\\gamma I\\bigr)w\\label{eq:shrinkage_bouchard}\\tag{4.40}$$\n",
    "With a sufficiently large $\\gamma$ parameter, the optimization will focus more on minimizing the nonparametric Herfindahl-Hirschman Index, and less on the quantities $m$ and $C$ that need estimating. This can produce a solution that mitigates the problem of too-heavy reliance on random noise in inputs, pushing solutions toward $w=\\frac{1}{n}u$.\n",
    "\n",
    "The problem of parameter estimation is so large that some have suggested giving up on it altogether. [DeMiguel, Garlappi, and Uppal 2007](https://dx.doi.org/10.2139/ssrn.911512) considered the \"1/N rule,\" which in our notation means forming the portfolio $w=\\frac{1}{n}u$ &mdash; the same as giving infinite weight to the $\\gamma$ parameter in \\eqref{eq:shrinkage_bouchard}. DeMiguel et. al. evaluated out-of-sample performance of a number of variations on parameter estimation for Markowitz-type mean-variance optimization. They\n",
    ">find that none is consistently better than the 1/N rule in terms of Sharpe ratio, certainty-equivalent return, or turnover. This finding indicates that, out of sample, the gain from optimal diversification is more than offset by estimation error... This suggests that there are still many \"miles to go\" before the gains promised by optimal portfolio choice can actually be realized out of sample. \n",
    "\n",
    "For example, the [_James-Stein shrinkage estimator_](http://digitalassets.lib.berkeley.edu/math/ucb/text/math_s4_v1_article-19.pdf) for the vector of multivariate normal means can be applied to the prior belief that all means are equal to some common scalar value $\\mu_0$. The observed mean vector $m$ is then pushed some way back to this prior. A scalar $s$ is used to calibrate how far to push back:\n",
    "$$s=\\min\\bigl(1,\\frac{n-2}{T(m-\\mu_0u)^{\\prime}C^{-1}(m-\\mu_0u)}\\bigr)\\label{eq:shrinkage_james_stein}\\tag{4.41}$$\n",
    "where $n$ is the number of variables in the vectors and $T$ is the number of observations (often time periods). The revised mean vector estimate is then\n",
    "$$m_{new}=(1-s)m+s\\mu_0u\\label{eq:shrinkage_james_stein_mnew}\\tag{4.42}$$\n",
    "The default mean $\\mu_0$ can for example be the average of all the means in m ($\\mu_0=\\frac{m’u}{n}$).\n",
    "\n",
    "This seems like a sensible, quasi-Bayesian, heuristic for not relying too much on possibly erroneous sample data. But James and Stein showed something remarkable about this estimator: if there is a true (but unknown) population mean vector $m_{true}$, then\n",
    "$$(m_{true}-m)^{\\prime}C^{-1}(m_{true}-m)\\geq(m_{true}-m_{new})^{\\prime}C^{-1}(m_{true}-m_{new})\\tag{4.43}$$\n",
    "That means that in some sense, the new estimator is guaranteed to be closer to the unknown true mean vector than the original. That's _for any value of $\\mu_0$_! So you can just pick a $\\mu_0$ randomly and you'll get closer to the true mean vector than your sample mean vector $m$. Of course an outrageous $\\mu_0$ will cause the $s$ in \\eqref{eq:shrinkage_james_stein} to be very small, so there won't be much adjustment. But it will be in the right direction!\n",
    "\n",
    "A similar idea is seen in the [_Jorion shrinkage estimator_](https://dx.doi.org/10.2307/2331042), formed by taking\n",
    "$$s=\\frac{n+2}{n+2+T(m-\\mu_{min})^{\\prime}C^{-1}(m-\\mu_{min})}\\text{, where }\\mu_{min}=\\frac{m^{\\prime}C^{-1}u}{u^{\\prime}C^{-1}u}\\tag{4.44}$$\n",
    "and then applying the shrinkage combination in \\eqref{eq:shrinkage_james_stein_mnew}. Note that $\\mu_{min}$ is the return on the global minimum variance portfolio we obtained in the original equality-constrained version of the Markowitz efficient frontier, i.e. the value of \\eqref{eq:equal_frontier_mu} when $\\lambda_1=0$.\n",
    "\n",
    "We can similarly apply shrinkage estimators to the covariance matrix. In a 1978 paper, [Elton & Gruber](https://dx.doi.org/10.2307/2326368) pointed out that there appeared to be little information in covariance matrices off the diagonal, and suggested just setting every correlation to the same value. They were reluctant to do this, saying\n",
    ">In this section, we will assume that all pairwise correlation coefficients are equal. While this probably does not represent the true pattern one finds in the economy, it is very difficult to obtain a better estimate. Elsewhere we have shown that this assumption produces better estimates of future correlation coefficients than do historical correlation coefficients...\n",
    "\n",
    "This was later refined by [Ledoit and Wolf in 2003](http://dx.doi.org/10.2139/ssrn.433840) as a shrinkage process with a constant-correlation prior. Let $R=S^{-1}CS^{-1}$, where $C$ is a samnple covariance matrix and $S=\\sqrt{diag(C)}$ is the matrix with sample standard deviations on the diagonal and zeroes elsewhere. $R$ is the sample correlation matrix. Let $\\rho_{average}=\\frac{u^{\\prime}Ru-n}{n(n-1)}$ be the average off-diagonal correlation. Then the constant correlation covariance matrix is\n",
    "$$C_{\\rho}=S(I+\\rho_{average}(J-I))S$$\n",
    "where as usual $J=uu^{\\prime}$ is the matrix of all ones.\n",
    "\n",
    "The Ledoit-Wolf covariance shrinkage estimator is\n",
    "$$C_{new}=sC_{\\rho}+(1-s)C\\tag{4.46}$$\n",
    "where s is a scalar shrinkage parameter – the larger s is, the less trust you have in your correlations. Ledoit and Wolf give the following rather elaborate estimate of $s$:\n",
    "- First, define $y_{it}$ as the de-meaned observation of the $i^{th}$ security's return in time period $t$, so that $\\sum_t y_{it}=0$. Then if $Y$ is the sample de-meaned return matrix ($n\\times T$), then $C=\\frac{1}{T}YY^{\\prime}$ is the sample covariance matrix.\n",
    "- Second, define $f_{ij}$ as the $(i,j)$ element of $C_{\\rho}$ and $s_{ij}$ as the (i,j) element of $C$.\n",
    "- Third, compute $\\hat{\\pi}=\\sum_i\\sum_k\\pi_{ij}$ where $\\pi_{ij}=\\frac{1}{T}\\sum_{t=1}^T\\bigl(y_{it}y_{jt}-s_{ij}\\bigr)^2$\n",
    "- Fourth, compute $\\hat{\\nu}_{ii,ij}=\\frac{1}{T}\\sum_{t=1}^T\\bigl(y_{it}^2-s_{ii}\\bigr)\\bigl(y_{it}y_{jt}-s_{ij}\\bigr)$. Then compute $\\hat{x}=\\sum_{i=1}^n\\pi_{ii}+\\frac{\\rho_{average}}{2}\\sum_{i=1}^n\\sum_{j=1,j\\neq i}^n\\bigl(\\sqrt{\\frac{s_{jj}}{s_{ii}}}\\hat{\\nu}_{ii,ij}+\\sqrt{\\frac{s_{ii}}{s_{jj}}}\\hat{\\nu}_{jj,ij}\\bigr)$\n",
    "- Fifth, compute $\\hat\\gamma=\\sum_{i=1}^n(f_{ij}-s_{ij})^2$\n",
    "- Sixth, set $s=\\frac{\\hat{\\pi}-\\hat{x}}{\\hat{\\gamma}}$. Ledoit and Wolf suggest bounding this between 0 and 1 if necessary.\n",
    "\n",
    "While this estimate of the optimal shrinkage intensity $s$ is quite complicated to write down, it is not hard to program. An easier heuristic is to set $s$ equal to the fraction of the trace contained in the correlation matrix’s first $\\sqrt{n}$ eigenvalues."
   ]
  },
  {
   "cell_type": "markdown",
   "metadata": {},
   "source": [
    "### 4.2.3 Resampled Efficient Frontier\n",
    "\n",
    "Shrinkage techniques deal with estimation error in means and covariances, but not directly with finding the portfolios on the efficient frontier. In 1992, [Philippe Jorion](https://www.jstor.org/stable/4479507) addressed the problem of finding efficient frontiers directly with the following procedure:\n",
    ">1. Compute the means and covariance matrix from the actual sample of historical returns. Define T as the sample size (number of months, say) and N as the number of assets. Perform the optimization, given the stated objective function and investor constraints.\n",
    ">2. Assume that the estimates from Step 1 are true values. From a multivariate standard normal distribution with these parameters, draw one random sample of N joint returns. This represents one month of simulated returns. Sample again until T months are generated.\n",
    ">3. Estimate from these simulated returns a new set of means and a new variance-covariance matrix; perform an optimization using these inputs. The simulated optimal portfolio provides one observation in the distribution of the original optimal portfolio.\n",
    ">4. Repeat Steps 2 and 3 until the distribution of the optimal portfolio is approximated with enough precision.\n",
    "\n",
    "We can follow Jorion's procedure to see how much ambiguity there is in the minimum-variance portfolio $\\frac{C^{-1}u}{u^{\\prime}C^{-1}u}$ from our three-currency example:"
   ]
  },
  {
   "cell_type": "code",
   "execution_count": 12,
   "metadata": {},
   "outputs": [
    {
     "data": {
      "image/png": "[encoded data removed]",
      "text/plain": [
       "<Figure size 432x288 with 1 Axes>"
      ]
     },
     "metadata": {
      "needs_background": "light"
     },
     "output_type": "display_data"
    }
   ],
   "source": [
    "#Resample the minimum variance portfolio from 3-currency example\n",
    "samp_size=1000\n",
    "samp_time_periods=1000\n",
    "samp_stds=[]\n",
    "samp_means=[]\n",
    "samp_portfolios=[]\n",
    "for trial in range(samp_size):\n",
    "    #Generate a virtual history of returns in x\n",
    "    x=np.random.multivariate_normal(m,c,samp_time_periods)\n",
    "    #Compute the virtual history's mean, covariance, and inverse covariance\n",
    "    samp_m=np.mean(x,axis=0)\n",
    "    samp_c=np.cov(x.T)\n",
    "    samp_ci=np.linalg.inv(samp_c)\n",
    "    #Compute minimum variance portfolio s_vec2 according to new parameters\n",
    "    s_uciu=np.sum(samp_ci)\n",
    "    s_vec2=np.matmul(samp_ci,u)/s_uciu\n",
    "    #Find the mean and standard deviation of this portfolio according to the old parameters\n",
    "    samp_means.append(10000*np.matmul(s_vec2,m))\n",
    "    samp_stds.append(100*np.sqrt(np.matmul(np.matmul(s_vec2,c),s_vec2)))\n",
    "    samp_portfolios.append(s_vec2)\n",
    "\n",
    "#Plot the minimum variance portfolios \n",
    "plt.scatter(samp_stds,samp_means,marker='o',color='green')\n",
    "#Plot the original MV portfolio\n",
    "plt.scatter(np.sqrt(10000./uciu),10000.*ucim/uciu,marker='*',color='red')\n",
    "#Plot the average of the resampled MV portfolios\n",
    "plt.scatter(np.mean(samp_stds),np.mean(samp_means),marker='x',color='blue')\n",
    "#Zoom in on the x-range\n",
    "xdiff=np.max(samp_stds)-np.min(samp_stds)\n",
    "plt.xlim(np.min(samp_stds)-.05*xdiff,np.max(samp_stds)+.05*xdiff)\n",
    "plt.title('Figure 4.6: Resampled Minimum Variance Portfolios')\n",
    "plt.xlabel('Risk (annual std. deviation)')\n",
    "plt.ylabel('Reward (arith. annual return)')\n",
    "plt.grid(True)\n",
    "plt.show();"
   ]
  },
  {
   "cell_type": "markdown",
   "metadata": {},
   "source": [
    "There's a very large range of mean returns of the resampled minimum variance portfolio shown in Figure 4.6. The standard deviations (x-axis) are less variable, but even they show not only a range, but also an inevitable upward bias. The red marker is the original minimum variance portfolio, which is the only efficient portfolio on the graph according to the original parameters. The blue marker is the average of the sample characteristics, which is riskier than the original minimum variance portfolio. The difference between the blue marker and the red marker is an indication of how overly optimistic we were about our ability to get a low-variance portfolio.\n",
    "\n",
    "There's also uncertainty about the weights. We can compute a 95% confidence interval for them from the sample:"
   ]
  },
  {
   "cell_type": "code",
   "execution_count": 13,
   "metadata": {},
   "outputs": [
    {
     "name": "stdout",
     "output_type": "stream",
     "text": [
      "95% confidence for MV portfolio:\n",
      "Bottom of interval:  [0.0009 0.481  0.3892]\n",
      "Middle of interval:  [0.0466 0.5261 0.4273]\n",
      "Original MV port:    [0.0446 0.5273 0.4281]\n",
      "Top of interval:     [0.0923 0.5736 0.4674]\n"
     ]
    }
   ],
   "source": [
    "#Show the 95% confidence intervals for the MV portfolio    \n",
    "bottom=np.percentile(samp_portfolios,5,axis=0)\n",
    "middle=np.percentile(samp_portfolios,50,axis=0)\n",
    "top=np.percentile(samp_portfolios,95,axis=0)\n",
    "print(\"95% confidence for MV portfolio:\")\n",
    "print(\"Bottom of interval: \",bottom)\n",
    "print(\"Middle of interval: \",middle)\n",
    "print(\"Original MV port:   \",vec2)\n",
    "print(\"Top of interval:    \",top)"
   ]
  },
  {
   "cell_type": "markdown",
   "metadata": {},
   "source": [
    "Typically we see that zero is in the confidence interval for the first (Swiss franc) weight, so we're not even sure we should have any in the minimum variance portfolio. The range of pound sterling (second) and Japanese yen (third) weights are typically about 8% wide. And the minimum variance portfolio is generally the most stable since it doesn't use the mean vector as an input!\n",
    "\n",
    "A _resampled efficient frontier_ takes this resampling process and averages it to get a collection of optimal mean-variance portfolios that, it is hoped, will have less dependence on sampling noise. One way of averaging was proposed by Richard Michaud[$^3$](#four_footnotes) in 1998; Michaud has a [US patent](https://patents.google.com/patent/US6003018A/en) on this method, which is offered commercially through the firm [New Frontier Advisors](https://www.newfrontieradvisors.com/).\n",
    "\n",
    "Michaud aggregates the minimum variance portfolios from each sample as we did above. He then chops the remainder of the efficient frontier from the minimum variance to the maximum return &mdash; assuming there is a maximum return &mdash; into an equal number of steps. For example suppose the original frontier had a minimum return of .2 and a maximum of 2 and there were 10 steps desired along the frontier; then 10 efficient portfolios $P_{1,0}$ with return .2; $P_{2,0}$ with return .4; ...; and $P_{10,0}$ with return 2 would be recorded. Then a resampled frontier would be generated for simulation 1; say its minimum and maximum returns were .15 and 2.88. The compositions of the 10 portfolios $P_{1,1}$ with return .15; $P_{2_1}$ with returns .47; ...; and $P_{10,1}$ with return 2.88 would be recorded. The resampled frontier would then consist of the 10 portfolios $\\frac{1}{S+1}\\sum_{s=0}^S P_{i,s}$ \n",
    "\n",
    "The Michaud method essentially aggregates resampled portfolios by target mean. Another method is offered by [Morningstar/Ibbotson](https://corporate.morningstar.com/Fib/documents/MethodologyDocuments/ResearchPapers/RobustAssetAllocation.pdf) which essentially aggregates by target standard deviation; their description is:\n",
    ">Ibbotson uses a proprietary \"bin approach,\" in which asset allocations from the _simulated_ portfolios are grouped together based on narrowly defined standard deviation ranges that cover the risk spectrum. The average asset allocations are then linked back to the original inputs to plot the resampled efficient frontier.\n",
    "\n",
    "Whichever method is used, the general idea is to (a) lower and (b) estimate sampling noise through a process of resampling. [Bernd Scherer](https://doi.org/10.2469/faj.v58.n6.2489) points out that resampling methods will average out to the original efficient frontier when there are no constraints in the optimization process, but when there are constraints - for example, long-only holdings - the resampled frontier will generally improve on the original frontier. That is, empirical tests have generally shown that resampled frontiers do better at predicting out-of-sample (future) behavior than the original efficient frontier. But resampling is a heuristic rather than a proof, and practitioners continue to search for even better heuristics to predict out-of-sample behavior.\n"
   ]
  },
  {
   "cell_type": "markdown",
   "metadata": {},
   "source": [
    "## 4.3 Black-Litterman\n",
    "\n",
    "[Black-Litterman](https://doi.org/10.3905/jfi.1991.408013) is another attempt to deal with poor estimation of the Markowitz parameters, in this case through a Bayesian framework. \"Black\" is Fischer Black, whose contributions to mathematical finance include (among many others) the Black-Scholes option pricing formula and two of the [short rate models](#other_short_rate_models) we discussed. \"Litterman\" is Robert Litterman, who headed quantitative management at Goldman Sachs Asset Management and who we have already seen in the Litterman-Sheinkman paper we saw when discussing [key rates](#rolldown_key_rates). \n",
    "\n",
    "In the Black-Litterman framework, we assume there is a true but unobservable expected mean vector $\\mu$ that is associated with the process generating asset returns. Before updating our information to estimate $\\mu$, we have a prior belief: namely that it is consistent with the Capital Asset Pricing Model, which we will cover in section 5.1. The prior that comes from that model is:\n",
    "$$\\mu_{CAPM}=r_f u + (\\mathbb{E}[r_M]-r_f)\\beta\\label{eq:black_litterman_capm}\\tag{4.70}$$\n",
    "where $r_M$ is the scalar random variable giving returns on the market, and $\\beta$ is an n-vector giving the beta of each of the $n$ assets in the market.\n",
    "\n",
    "Our error of estimate is given by a multivariate normal distribution with mean 0 and covariance matrix $sC$, where $s$ is a confidence scalar. If s=0, we are perfectly confident that $\\mu_{CAPM}$ is the right answer. As s gets larger, we get less confident. $C$ might be estimated from historical returns or from an equity model. Note however that a full covariance matrix $C$ is not consistent with the CAPM, which assumes $C=\\sigma_M\\beta^{\\prime}\\beta$.\n",
    "\n",
    "In the Black-Litterman framework, we can express views (opinions) about the actual mean return n-vector $\\mu$. A view is a value of some linear combination of returns. The simplest view is that a return on a particular asset will take on a particular value, but we can also (for example) express a view on an industry (a weighted combination of the assets in that industry), or on one group of assets versus another (a hedge or relative value trade). In general, we write\n",
    "$$p=V\\mu+\\epsilon\\label{eq:black_litterman_views}\\tag{4.71}$$\n",
    "where V is a $v\\times n$ matrix whose rows are the linear combinations expressing the form of our views, of which we have v. p is a v-vector giving the outcomes of the views. $\\epsilon$ is an error v-vector with mean 0.\n",
    "\n",
    "For example, if we believe pharmaceutical stocks will outperform energy stocks by 12%, a row of $V$ would have positive weights (perhaps capitalization-weighted) on all the pharmaceutical stocks and negative weights on energy stocks, and the corresponding row of the v-column-vector $p$ would be 12%.\n",
    "\n",
    "We are trying to minimize the error term $\\epsilon$ on the right-hand side. To do this, we could solve a standard ordinary least squares (OLS) regression using least squares, obtaining $\\mu=(V^{\\prime}V)^{-1}V^{\\prime}p$. However in accordance with our theme of keeping track of how much we don’t trust our parameters, we assume that the error vector $\\epsilon$ is multivariate normally distributed with mean 0 and $v\\times v$ covariance matrix $\\Gamma$. The smaller the entries of $\\Gamma$, the more confident we are in our views. Usually we assume off-diagonal elements are 0, and that really is just to make things easier.\n",
    "\n",
    "When we have an error matrix like $\\Gamma$, we can use an extension of ordinary least squares regression called generalized least squares (GLS). The idea is to modify OLS regression by weighting the variables we are more sure about more heavily, and the variables we are less sure about less heavily. The GLS solution is\n",
    "$$\\mu_{views}=(V^{\\prime}\\Gamma^{-1}V)^{-1}V^{\\prime}\\Gamma^{-1}p\\label{eq:black_litterman_views_mu}\\tag{4.74}$$\n",
    "\n",
    "We have two equations involving our estimate of $\\mu$ – one from the CAPM \\eqref{eq:black_litterman_capm} and one from views \\eqref{eq:black_litterman_views_mu}. We can put them together and minimize the errors using GLS again. We put everything together into these vectors:\n",
    "$$y=\\left( {\\begin{array}{c}\n",
    "   \\mu_{CAPM} \\\\\n",
    "   p \\\\\n",
    "  \\end{array} } \\right);\n",
    "M=\\left( {\\begin{array}{c}\n",
    "   I \\\\\n",
    "   V \\\\\n",
    "  \\end{array} } \\right);\n",
    "E=\\left( {\\begin{array}{cc}\n",
    "   sC & 0 \\\\\n",
    "   0 & \\Gamma \\\\\n",
    "  \\end{array} } \\right)label{eq:black_litterman_matrices}\\tag{4.75}\n",
    "$$\n",
    "Plugging the quantities in \\eqref{eq:black_litterman_matrices} into a GLS like \\eqref{eq:black_litterman_views_mu} gives\n",
    "$$\\mu=\\left(\\frac{1}{s}C^{-1}+V^{\\prime}\\Gamma^{-1}V\\right)^{-1}\\left(\\frac{1}{s}C^{-1}\\mu_{CAPM}+V^{\\prime}\\Gamma^{-1}V\\mu_{views}\\right)\\label{eq:black_litterman_overall_mu}\\tag{4.76}$$\n",
    "Recall that $s$ is the scalar that shows how much we disbelieve the prior &mdash; the CAPM view. As $s\\rightarrow 0$, the views become less and less important and the estimate of $\\mu$ approaches $\\mu_{CAPM}$. On the other hand, as $s\\rightarrow\\infty$, the CAPM prior becomes less and less important and the views dominate, giving $\\mu_{views}$ when the expressions make sense.\n",
    "\n",
    "In this case – when the matrices are well-behaved enough – we can write\n",
    "$$\\mu=M_{CAPM}\\mu_{CAPM}+(I-M_{CAPM})\\mu_{views}\\text{, where}$$\n",
    "$$M_{CAPM}=\\left(\\frac{1}{s}C^{-1}+V^{\\prime}\\Gamma^{-1}V\\right)^{-1}\\frac{1}{s}C^{-1}\\text{  and}\\label{eq:black_litterman_overall_matrices}\\tag{4.77}$$\n",
    "$$M_{views}=\\left(\\frac{1}{s}C^{-1}+V^{\\prime}\\Gamma^{-1}V\\right)^{-1}V^{\\prime}\\Gamma^{-1}V\\text{   so}$$\n",
    "$$M_{CAPM}+M_{views}=I$$\n",
    "However note that $M_{CAPM}$ is affected by the views, and $M_{views}$ is affected by the CAPM. In fact views do not only affect the securities for which they are expressed – they are spread out over the entire vector. This reflects the fact that a view on a security passes through the covariance structure and affects other securities."
   ]
  },
  {
   "cell_type": "markdown",
   "metadata": {},
   "source": [
    "### 4.3.1 Black-Litterman Example\n",
    "\n",
    "We'll work an example of Black-Litterman, using our currency data from earlier in the chapter. For currencies, the concept of \"the market\" is not as clear as it is for stocks. It's relatively easy to compute the total value of investable shares of Apple Computer or Walmart; it's less easy to compute the total value of investment we could make in Swiss francs. We'll just arbitrarily assign a market portfolio for our three currencies:\n",
    "$$w_M=\\left( {\\begin{array}{c}\n",
    "   .05 \\\\\n",
    "   .15 \\\\\n",
    "   .80 \\\\\n",
    "  \\end{array} } \\right)\\tag{4.78}$$\n",
    "\n",
    "Then from our previous data we can compute the expected mean return $m^{\\prime}w_M$ of the market, and the market's standard deviation $\\sqrt{w_M^{\\prime}C w_M}$:"
   ]
  },
  {
   "cell_type": "code",
   "execution_count": 14,
   "metadata": {},
   "outputs": [
    {
     "name": "stdout",
     "output_type": "stream",
     "text": [
      "Mkt μ= 0.7655167134492344  bps/day\n",
      "Mkt σ²= 0.3245879295498583 (%/day)²\n"
     ]
    }
   ],
   "source": [
    "#Fake \"market\" for the three currencies\n",
    "wmkt=np.array([.05,.15,.8])\n",
    "mumkt=np.matmul(wmkt,m.T)\n",
    "varmkt=np.matmul(np.matmul(wmkt,c),wmkt.T)\n",
    "print('Mkt μ=',mumkt*10000,' bps/day')\n",
    "print(f'Mkt σ\\N{SUPERSCRIPT TWO}=',varmkt*10000,f'(%/day)\\N{SUPERSCRIPT TWO}')"
   ]
  },
  {
   "cell_type": "markdown",
   "metadata": {},
   "source": [
    "We can also compute the vector of betas of the three individual assets with the market, and from that the $\\mu_{CAPM}$ vector given by \\eqref{eq:black_litterman_capm}:"
   ]
  },
  {
   "cell_type": "code",
   "execution_count": 15,
   "metadata": {},
   "outputs": [
    {
     "name": "stdout",
     "output_type": "stream",
     "text": [
      "β = [0.7391 0.4906 1.1118]\n",
      "μCAPM= [0.5658 0.3756 0.8511]  bps/day\n"
     ]
    }
   ],
   "source": [
    "betavec=np.matmul(c,wmkt)/varmkt\n",
    "print('β =',betavec)\n",
    "\n",
    "mucapm=rfvec+(mumkt*10000-rfrate)*betavec\n",
    "print('μCAPM=',mucapm,' bps/day')"
   ]
  },
  {
   "cell_type": "markdown",
   "metadata": {},
   "source": [
    "Let us now put in a single opinion, which is that pounds will outperform yen by .2bps/day. The CAPM prior says pounds will underperform yen, so we are going in a different direction. In the notation of \\eqref{eq:black_litterman_views} this says\n",
    "$$p=.00002$$\n",
    "$$V=\\left( {\\begin{array}{ccc}\n",
    "   0& 1& -1 \\\\\n",
    "  \\end{array} } \\right)$$\n",
    "\n",
    "Let us assume the error of estimate matrix of our views is $\\Gamma=.0001\\cdot I$, where I is the identity matrix (actually a scalar here since v=1). We’ll weight our market beliefs with $s=1$.\n",
    "\n",
    "We can then compute the term\n",
    "$$\\left(\\frac{1}{s}C^{-1}+V^{\\prime}\\Gamma^{-1}V\\right)^{-1}$$\n",
    "used in \\eqref{eq:black_litterman_overall_mu} and \\eqref{eq:black_litterman_overall_matrices}:"
   ]
  },
  {
   "cell_type": "code",
   "execution_count": 16,
   "metadata": {},
   "outputs": [
    {
     "name": "stdout",
     "output_type": "stream",
     "text": [
      "C⁻¹/s= [[ 34048.1695 -19702.0141 -12556.3028]\n",
      " [-19702.0141  42259.7696  -1393.1939]\n",
      " [-12556.3028  -1393.1939  31130.2896]]\n",
      "V'Γ⁻¹V= [[     0.      0.     -0.]\n",
      " [     0.  10000. -10000.]\n",
      " [    -0. -10000.  10000.]]\n",
      "Sum= [[ 34048.1695 -19702.0141 -12556.3028]\n",
      " [-19702.0141  52259.7696 -11393.1939]\n",
      " [-12556.3028 -11393.1939  41130.2896]]\n",
      "Sum inverse (x10000)= [[0.5189 0.2449 0.2263]\n",
      " [0.2449 0.3193 0.1632]\n",
      " [0.2263 0.1632 0.3574]]\n"
     ]
    }
   ],
   "source": [
    "#View that pounds will outperform yen\n",
    "view=np.array([0,1,-1])\n",
    "pview=.00002\n",
    "\n",
    "gamma=np.matrix([.0001])\n",
    "sweight=1\n",
    "\n",
    "#First Black-Litterman matrix calculation\n",
    "print('C\\N{SUPERSCRIPT MINUS}\\N{SUPERSCRIPT ONE}/s=',\n",
    "      ci/sweight)\n",
    "#Second matrix\n",
    "v1=np.matmul(np.matrix(view).T,np.linalg.inv(gamma))\n",
    "vgvmtrx=np.matmul(v1,np.matrix(view))\n",
    "print('V\\'Γ\\N{SUPERSCRIPT MINUS}\\N{SUPERSCRIPT ONE}V=',vgvmtrx)\n",
    "#Sum of the two\n",
    "print('Sum=',ci/sweight+vgvmtrx)\n",
    "\n",
    "m1inv=np.linalg.inv(ci/sweight+vgvmtrx)\n",
    "print('Sum inverse (x10000)=',m1inv*10000)"
   ]
  },
  {
   "cell_type": "markdown",
   "metadata": {},
   "source": [
    "The other terms are $\\frac{1}{s}C^{-1}\\mu_{CAPM}$ and $V^{\\prime}\\Gamma^{-1}V\\mu_{views}$. Note from \\eqref{eq:black_litterman_views_mu} we have $V^{\\prime}\\Gamma^{-1}V\\mu_{views}=V^{\\prime}\\Gamma^{-1}p$:"
   ]
  },
  {
   "cell_type": "code",
   "execution_count": 17,
   "metadata": {},
   "outputs": [
    {
     "name": "stdout",
     "output_type": "stream",
     "text": [
      "Cinv*muCAPM/s= [0.1179 0.3538 1.8867]\n",
      "V'Γ⁻¹p= [[ 0. ]\n",
      " [ 0.2]\n",
      " [-0.2]]\n",
      "Sum= [[0.1179 0.5538 1.6867]]\n"
     ]
    }
   ],
   "source": [
    "cimcs=np.matmul(ci,mucapm/sweight)*10**(-4)\n",
    "print('Cinv*muCAPM/s=',cimcs)\n",
    "\n",
    "print('V\\'Γ\\N{SUPERSCRIPT MINUS}\\N{SUPERSCRIPT ONE}p=',v1*pview)\n",
    "m2=cimcs+v1.T*pview\n",
    "print('Sum=',m2)"
   ]
  },
  {
   "cell_type": "markdown",
   "metadata": {},
   "source": [
    "Multiplying the matrix times the vector gives the Black-Litterman estimate $\\mu$ as in \\eqref{eq:black_litterman_overall_mu}:"
   ]
  },
  {
   "cell_type": "code",
   "execution_count": 18,
   "metadata": {},
   "outputs": [
    {
     "name": "stdout",
     "output_type": "stream",
     "text": [
      "Black-Litterman μ: [[0.5785]\n",
      " [0.481 ]\n",
      " [0.7199]]\n"
     ]
    }
   ],
   "source": [
    "mufinal=np.matmul(m1inv,m2.T)*10000\n",
    "print('Black-Litterman μ:',mufinal)"
   ]
  },
  {
   "cell_type": "markdown",
   "metadata": {},
   "source": [
    "After a great deal of calculation, we have modified the $\\mu_{CAPM}$ vector a little: the expected mean pound return has increased and the expected mean yen return has decreased, although not enough to fully implement our opinion that pounds would outperform yen by .2bps. The expected return on Swiss francs has changed a little too, even though we didn't have an opinion about it: this is because of the covariance structure causes our views to propagate through to the entire market.\n",
    "\n",
    "Recall that we had some uncertainty parameters &mdash; the scalar $s$ and the matrix $\\Gamma$ &mdash; that have no obvious calibration process. A Black-Litterman user can adjust them until they give an answer that seems intuitively appealing. The danger is similar to that of overconstraining an optimization &mdash; we adjust a quantitative process until it confirms our qualitative biases.  [Michaud, Esch, and Michaud](https://dx.doi.org/10.2139/ssrn.2641893) captured this concern in the title of their 2013 paper: \"Deconstructing Black-Litterman: How to get the portfolio you already knew you wanted.\"\n",
    "\n",
    "Still, such quantitative methods are not without value. A careful analyst will focus on listening to the algorithm rather than telling it what to do. For example, understanding what relationships caused the change in the Swiss franc's expected return in our Black-Litterman example might lead to some insight: what is it about the pound's and the yen's relationships with the franc that caused that movement? Is there some relationship between the Swiss, British, and Japanese economies that is being revealed, or is it just a statistical artifact? Pursuing these kinds of questions can lead to better results."
   ]
  },
  {
   "cell_type": "markdown",
   "metadata": {},
   "source": [
    "<a name=\"four_footnotes\"></a>\n",
    "# Chapter 4 Footnotes\n",
    "\n",
    "$^1$In the US, \"mostly\" means [80% or more](https://www.sec.gov/rules/final/ic-24828.htm)\n",
    "<br>\n",
    "\n",
    "$^2$Bouchard, Potters & Aguilar are physicists who now run a quantitative hedge fund in Paris (www.cfm.fr).\n",
    "<br>\n",
    "\n",
    "$^3$ The father-and-son team of Richard Michaud and Robert Michaud wrote _Efficient Asset Management: A practical Guide to Stock Portfolio Optimization and Asset Allocation_ in 1998; the second edition is from 2008 and is published by Oxford University Press, ISBN 978-0-19-533191-2."
   ]
  },
  {
   "cell_type": "code",
   "execution_count": null,
   "metadata": {},
   "outputs": [],
   "source": []
  }
 ],
 "metadata": {
  "kernelspec": {
   "display_name": "Python 3",
   "language": "python",
   "name": "python3"
  },
  "language_info": {
   "codemirror_mode": {
    "name": "ipython",
    "version": 3
   },
   "file_extension": ".py",
   "mimetype": "text/x-python",
   "name": "python",
   "nbconvert_exporter": "python",
   "pygments_lexer": "ipython3",
   "version": "3.7.1"
  }
 },
 "nbformat": 4,
 "nbformat_minor": 2
}

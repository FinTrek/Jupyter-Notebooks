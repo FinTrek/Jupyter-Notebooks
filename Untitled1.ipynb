{
 "cells": [
  {
   "cell_type": "markdown",
   "metadata": {},
   "source": [
    "We assume there are three classes of investors:\n",
    "- Index investors, who buy and sell the entire market;r\n",
    "- Informed investors, who buy and sell individual bonds based on information; and\n",
    "- Noise traders, who buy and sell randomly.\n",
    "\n",
    "**Index Investors** know (from ratings agencies) a long-term market average hazard rate, $M_{\\infty}$. A hazard rate $h$ gives a probability of default\n",
    "$$P_d(h,t)=1-\\exp(-ht)$$\n",
    "over the horizon between now and time t from now. If a bond defaults, it pays a recovery rate $R$ (per 1 monetary unit); typically $R\\approx 40$. Suppose there is a constant discount rate $d$. Then on a risk-neutral basis, the present value of a bond maturing at time $T$ as a function of these variables is\n",
    "$$Price(h)=\\bigl(R\\int_0^T P_d(h,s)e^{-rs}ds\\bigr)+1-P_d(h,s)=Rt-\\frac{R-1}{h}P_d(h,t)$$\n",
    "\n",
    "\n"
   ]
  },
  {
   "cell_type": "code",
   "execution_count": null,
   "metadata": {},
   "outputs": [],
   "source": []
  },
  {
   "cell_type": "raw",
   "metadata": {},
   "source": []
  }
 ],
 "metadata": {
  "kernelspec": {
   "display_name": "Python 3",
   "language": "python",
   "name": "python3"
  },
  "language_info": {
   "codemirror_mode": {
    "name": "ipython",
    "version": 3
   },
   "file_extension": ".py",
   "mimetype": "text/x-python",
   "name": "python",
   "nbconvert_exporter": "python",
   "pygments_lexer": "ipython3",
   "version": "3.7.1"
  }
 },
 "nbformat": 4,
 "nbformat_minor": 2
}

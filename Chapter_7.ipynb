{
 "cells": [
  {
   "cell_type": "markdown",
   "metadata": {},
   "source": [
    "# Chapter 7 - Simulation, Scenarios and Stress Testing\n",
    "&copy; 2019 Kenneth Winston\n",
    "\n",
    "In the previous chapter we saw a variety of distributions that can be used for situations that fall into Knight's [_a priori risk_](#frank_knight) category. If we are confident that a known distribution describes all the outcomes and all the associated probabilities for a set of variables, then we might even be able to get a closed-form description of relevant risk metrics for these variables.\n",
    "\n",
    "But even if that situation obtains, our work isn't done. For financial applications, we'll probably want to know the rate of return of a portfolio. The portfolio could be a mutual fund, hedge fund, or institutional portfolio managed by an asset manager; it could be the positions on a trading desk; or it could be aggregate holdings of a sovereign wealth or endowment fund belonging to an asset owner.\n",
    "\n",
    "The behavior of a portfolio of securities will be determined by a set of $k$ factors describing the financial and economic state of the world. These factors might come from a factor model like \\eqref{eq:factor_practice}; they might be [key rates](#rolldown_key_rates); or they might just be individual securities. Whatever the inputs are, the sample space of interest will consist of $k$-vectors $fr$ (\"factor realization\") giving possible future states of the world. Often the convention is that such a state-of-the-world vector is expressed as a change from the current state.\n",
    "\n",
    "Once we have the relevant state-of-the-world variables, we will also need deterministic pricing functions $R_i(fr)$ that give the rate of return of the $i^{th}$ security in a portfolio one period forward, conditional on state-of-the-world $fr$ being realized. Another function is then applied to the individual pricing functions to form a desired statistic at the portfolio level; for example $\\text{Port}(R_1(fr),\\dots,R_n(fr))=\\ln\\bigl(1+\\sum w_i R_i(fr)\\bigr)$ would give the portfolio's log-returns where $w$ is the portfolio weight vector.\n",
    "\n",
    "For example, there are four parameters ($\\beta_0$, $\\beta_1$, $\\beta_2$, and $\\tau$) that describe a Nelson-Siegel curve in \\eqref{eq:nelson_siegel}. If we are interested in modeling possible returns on a portfolio of bonds, then we might think that the relevant state-of-the-world sample space consists of 4-vectors giving the possible future values of the four Nelson-Siegel parameters. We might even think we have a state of Knightian Risk with respect to the Nelson-Siegel parameters: we have a good description of their probability distribution. But to value a portfolio of bonds being discounted by such a curve, we'll need to pass the four parameters through the formula \\eqref{eq:nelson_siegel}, and then apply the pricing equation \\eqref{eq:generic_pricing_equation} in order to get a pricing function $R_i(fr)$ for an individual bond. The portfolio return's response to changes in the four Nelson-Siegel parameters will therefore be highly nonlinear.\n",
    "\n",
    "For cases where the responses to the state-of-the-world variables are complex, **`simulation`** is used. A process is developed to describe the sample space: this can be a closed-form approach, or a random-number generator producing a large number of samples of the state-of-the-world vector. Then, conditional on the future evolving according to the sample draw, the object of interest &mdash; such as a portfolio of bonds discounted by the Nelson-Siegel curve based on the sample parameters &mdash; is valued. The distribution of portfolio results is then analyzed for relevant statistics.\n",
    "\n",
    "We have seen this technique already. The short rate models in sections 3.8.2 through 3.8.4 are examples of simulations; they generate a distribution of yield curves that can be used to value fixed income instruments. The resampled efficient frontier in section 4.2.2 is another example. An efficient portfolio is a highly nonlinear function of inputs such as a mean vector, a covariance matrix, and constraints. The resampling process is designed to produce an informative distribution of portfolios from which either a range or a center can be chosen.\n",
    "\n",
    "We can consider these techniques _guided looks into the future_. If our technique is good, then the future that actually does unfold (and futures reasonably like the true one) will be among the outcomes, and their associated probabilities will cause us to plan appropriately.\n",
    "<font color=\"white\">$$\\label{eq:factor_practice}\\tag{5.40}$$\n",
    "$$\\label{eq:generic_pricing_equation}\\tag{3.2}$$\n",
    "$$\\label{eq:nelson_siegel}\\tag{3.14}$$\n",
    "$$\\label{eq:normal_var}\\tag{2.8}$$\n",
    "$$\\label{eq:normal_cvar}\\tag{2.9}$$\n",
    "$$\\label{eq:three_currency_sampcov}\\tag{4.20}$$\n",
    "</font> "
   ]
  },
  {
   "cell_type": "markdown",
   "metadata": {},
   "source": [
    "## 7.1 Historical Simulation\n",
    "\n",
    "Perhaps the simplest way to generate outcomes and probabilities is **`historical simulation`**. In its purest form, this method requires no model other than the empirical history of the securities in our portfolio. The sample space is simply what happened in the past, and the associated probabilities can be totally agnostic &mdash; each historical observation has the same weight &mdash; or weighted according to a model such as: more recent observations are more important than older observations.\n",
    "\n",
    "As we noted above, a more crafted version of historical simulation uses factor models for securities. Not only do factor models help give better predictions of future behavior; they also help with missing data. For example, we may own Facebook (FB) in our portfolio. Facebook common stock was not publicly traded before 2012. We may not consider that FB's history is not long enough to build up reliable estimates of its behavior. To address this problem, FB could be modeled as a linear combination of (1) an index of large American technology companies; and (2) an index of global social networking firms. Those indices go back in time further than FB itself, allowing the factors' empirical histories to fill in missing time periods.\n",
    "\n",
    "We'll think about a historical simulation involving our Swissie, pound, yen example from section 4.1.2, using data going back to 1971. Our sample space will simply be all $T$ 3-vectors of (CHF,GBP,JPY) log-returns that we observed in the past, and our individual pricing functions will be $R_i(fr)=\\exp(fr_i)-1$, where $fr$ is one of the 3-vectors in the sample space.\n",
    "\n",
    "We'll suppose that the portfolio of interest is an equal-weighted portfolio of the three currencies, $w=(1/3, 1/3, 1/3)^{\\prime}$. Let $X$ be the $T\\times3$ matrix whose $(t,i)$ entry is the {(dollars per currency i on day t) divided by (dollars per currency i on day t-1)} minus one. $X$ is the priced sample space. The $T$-vector of log-returns at the portfolio level would be $\\text{Port}(X)=\\ln\\bigl(1+Xw\\bigr)$.\n",
    "\n",
    "The $i^{th}$ observation of the $T$ observations in $\\text{Port}(X)$ is assumed to have a probability $p_t$ of being observed. In this context we'll assume that time runs backward so $\\text{Port}(X_1)$ is the most recent observation and $\\text{Port}(X_T)$ is the oldest observation. In the agnostic version where we have no information to prioritize observations, $p_t=\\frac{1}{T}\\enspace\\forall t$. \n",
    "\n",
    "We might think that going forward, the world will look more like it did last year than it did in 1971. In that case we would use an observation distribution $p_t$ where $p_i\\geq p_j$ when $i\\leq j$. A common technique is an **`exponentially weighted moving average`**, or **`EWMA`**: the observation probabilities are given by\n",
    "$$p_t=\\frac{2^{-h(t-1)}}{\\sum_{s=0}^{T-1}2^{-hs}}=\\frac{2^{-h(t-1)}(1-2^{-h})}{1-2^{-hT}}\\approx2^{-h(t-1)}(1-2^{-h})\\approx2^{-h(t-1)}\\frac{h\\cdot ln(2)}{1+\\frac{h\\cdot ln(2)}{2}}\\label{eq:ewma}\\tag{7.1}$$\n",
    "\n",
    "$h=1/252$ in \\eqref{eq:ewma} would be a one year half-life if the observation periodicity was business-daily, since there are about 252 business days in a year. In that case the observations from a year ago would be half as probable as the most recent observation; three years ago would be one eighth as probable.\n",
    "\n",
    "A histogram of the outcomes (equally weighted in time) for the 3-currency portfolio (equally weighted by currency) is shown below. The pattern looks familiar:"
   ]
  },
  {
   "cell_type": "code",
   "execution_count": 49,
   "metadata": {},
   "outputs": [
    {
     "data": {
      "image/png": "[encoded data removed]",
      "text/plain": [
       "<Figure size 432x288 with 1 Axes>"
      ]
     },
     "metadata": {
      "needs_background": "light"
     },
     "output_type": "display_data"
    },
    {
     "name": "stdout",
     "output_type": "stream",
     "text": [
      "╒════════════════════╤═══════════════╕\n",
      "│ Statistic          │         Value │\n",
      "╞════════════════════╪═══════════════╡\n",
      "│ Count              │ 12036         │\n",
      "├────────────────────┼───────────────┤\n",
      "│ Min                │    -0.041114  │\n",
      "├────────────────────┼───────────────┤\n",
      "│ Max                │     0.0516067 │\n",
      "├────────────────────┼───────────────┤\n",
      "│ Mean               │     7.68e-05  │\n",
      "├────────────────────┼───────────────┤\n",
      "│ Median             │     1.21e-05  │\n",
      "├────────────────────┼───────────────┤\n",
      "│ Standard Deviation │     0.0052379 │\n",
      "├────────────────────┼───────────────┤\n",
      "│ Skewness           │     0.24522   │\n",
      "├────────────────────┼───────────────┤\n",
      "│ Excess Kurtosis    │     4.67289   │\n",
      "├────────────────────┼───────────────┤\n",
      "│ Jarque-Bera        │ 11071.3       │\n",
      "├────────────────────┼───────────────┤\n",
      "│ Chi-Squared p      │     0         │\n",
      "├────────────────────┼───────────────┤\n",
      "│ Serial Correlation │     0.0231905 │\n",
      "├────────────────────┼───────────────┤\n",
      "│ 99% VaR            │     0.013319  │\n",
      "├────────────────────┼───────────────┤\n",
      "│ 99% cVaR           │     0.0172272 │\n",
      "╘════════════════════╧═══════════════╛\n"
     ]
    }
   ],
   "source": [
    "%matplotlib inline\n",
    "import pandas as pd\n",
    "import qrbook_funcs as qf\n",
    "import numpy as np\n",
    "import matplotlib.pyplot as plt\n",
    "from tabulate import tabulate\n",
    "from scipy import stats\n",
    "#Get 3 currencies until the end of\n",
    "#previous year. Form sample covariance matrix\n",
    "#and do simple efficient frontier calculations\n",
    "\n",
    "lastday=qf.LastYearEnd()\n",
    "#Swiss franc, pound sterling, Japanese Yen\n",
    "seriesnames=['DEXSZUS','DEXUSUK','DEXJPUS']\n",
    "cdates,ratematrix=qf.GetFREDMatrix(seriesnames,enddate=lastday)\n",
    "\n",
    "#Convert levels to log-returns\n",
    "#First take logs of the currency levels\n",
    "#Currency exchange rates are usually expressed in the direction\n",
    "#that will make the rate > 1\n",
    "#Swissie and yen are in currency/dollar, but\n",
    "#pounds is in dollar/currency. Reverse signs\n",
    "#so everything is in dollar/currency\n",
    "\n",
    "#Do each currency separately to account for separate missing data patterns\n",
    "#dlgs is a list of lists of length 3 corresponding to the 3 currencies\n",
    "#The value in dlgs is nan if there is missing data for the present or previous day's observation\n",
    "#Otherwise it is the log of today/yesterday\n",
    "multipliers=[-1,1,-1]\n",
    "dlgs=[]\n",
    "for i in range(len(multipliers)):\n",
    "    lgrates=[]\n",
    "    previous=-1\n",
    "    for t in range(len(ratematrix)):\n",
    "        if pd.isna(ratematrix[t][i]) or ratematrix[t][i]<=0:\n",
    "            lgrates.append(np.nan)    #Append a nan\n",
    "        else:\n",
    "            if previous < 0:    #This is the first data point\n",
    "                lgrates.append(np.nan)\n",
    "            else:\n",
    "                lgrates.append(np.log(ratematrix[t][i]/previous)*multipliers[i])\n",
    "            previous=ratematrix[t][i]\n",
    "    dlgs.append(lgrates)\n",
    "\n",
    "#dlgs is the transpose of what we want - flip it\n",
    "dlgs=np.transpose(dlgs)\n",
    "\n",
    "#Delete any time periods that don't have data\n",
    "lgdates=[]\n",
    "difflgs=[]\n",
    "for t in range(len(dlgs)):\n",
    "    if all(pd.notna(dlgs[t])):\n",
    "        #include this time period\n",
    "        difflgs.append(dlgs[t])\n",
    "        lgdates.append(cdates[t])\n",
    "\n",
    "#Mean vector and covariance matrix are inputs to efficient frontier calculations\n",
    "d=np.array(difflgs)\n",
    "m=np.mean(d,axis=0)\n",
    "c=np.cov(d.T)\n",
    "\n",
    "#Show histogram of equal-weighted\n",
    "#CHF-GBP-JPY log-changes\n",
    "w=np.array([1/3]*3).T\n",
    "#apply transform to get returns at portfolio level\n",
    "portfolio=np.log(1+np.dot(np.exp(difflgs)-1,w))\n",
    "#portfolio now contains the equal-weighted portfolio's\n",
    "#log-returns. Create buckets - hist function doesn't\n",
    "#seem to have \"x or less\" or \"x or more\" buckets\n",
    "bucketnames=[]\n",
    "bucketcounts=[]\n",
    "#Bucket the end percentiles\n",
    "low1=np.percentile(portfolio,1)\n",
    "high1=np.percentile(portfolio,99)\n",
    "bucketnames.append('<=%7.4f' % low1)\n",
    "bucketcounts.append(sum(1 for x in portfolio if low1 >= x))\n",
    "#Count 20 even buckets in between low and high\n",
    "nbucket=20\n",
    "bucketwidth=(high1-low1)/nbucket\n",
    "for i in range(20):\n",
    "    attach=low1+i*bucketwidth\n",
    "    detach=attach+bucketwidth\n",
    "    mid=(attach+detach)/2\n",
    "    bucketnames.append('%7.4f' % mid)\n",
    "    bucketcounts.append(sum(1 for x in portfolio if (x>=attach and x<=detach)))\n",
    "\n",
    "#last bucket\n",
    "bucketnames.append('>=%7.4f' % high1)\n",
    "bucketcounts.append(sum(1 for x in portfolio if x >= high1))\n",
    "\n",
    "width=.5\n",
    "plt.bar(range(nbucket+2),bucketcounts,width)\n",
    "plt.xticks(range(nbucket+2),bucketnames,rotation='vertical')\n",
    "plt.grid()\n",
    "plt.ylabel('Day count')\n",
    "plt.title('Figure 7.1: Histogram of equal-weighted CHF+GBP+JPY\\n daily log-changes, '+lgdates[0][:4]+'-'+lastday[:4])\n",
    "plt.show();\n",
    "    \n",
    "statnames,metrics,table=qf.StatsTable(np.exp(portfolio)-1)\n",
    "headers=['Statistic','Value']\n",
    "print(tabulate(table, headers, tablefmt='fancy_grid'))"
   ]
  },
  {
   "cell_type": "markdown",
   "metadata": {},
   "source": [
    "The statistics table is based on daily portfolio returns. So our very simple look into the future of our equally weighted portfolio of Swissies, pounds and yen tells us that IF we expect the future to be like the 48 years 1971-2018, then\n",
    " - A typical daily rate of return will be about $\\pm52bps$ (standard deviation = 52bps/day)\n",
    " - 99% of the time we will lose less than 1.332% a day (99% VaR)\n",
    " - When we do lose more than that, we’ll lose on average 1.723% (cVaR)\n",
    "We will be drawing log-returns from the distribution shown in Figure 7.1 that looks normal at first glance, but is actually fat-tailed.\n",
    "\n",
    "As it turns out we would have made a profit &mdash; more than doubling our money denominated in dollars over 48 years or about 1.94% a year (converted from log-returns). However for risk management purposes, quite often we ignore the mean or set it to zero. In many cases empirically (and as we see here), the mean is negligible compared to the volatility. That's usually true over short periods such as a day, but over longer periods such as a year, the mean may not be negligible. That's because the mean scales linearly with time, while standard deviation usually scales as the square root of time."
   ]
  },
  {
   "cell_type": "markdown",
   "metadata": {},
   "source": [
    "## 7.2 Delta-Normal\n",
    "\n",
    "A second common method for generating future distributions is **`delta-normal`**. This method assumes that input variables &mdash; rates of return[$^1$](#seven_footnotes) of the three currencies in our example &mdash; will follow a multivariate normal distribution. Often the mean of the multivariate normal is assumed to be zero; as we noted above, for short periodicities the mean is usually negligible compared to the higher moments.\n",
    "\n",
    "The delta-normal method starts by mapping portfolio holdings into the appropriate exposure vector $w$. As with our historical example, this vector may simply be a vector of weights of the securities in the portfolio, with an associated covariance matrix $C$.\n",
    "\n",
    "For large institutional portfolios, the security-specific variance matrix $D$ in \\eqref{eq:factor_practice} is often ignored. This is because in the quadratic form $w^{\\prime}Dw$, only the squares of security weights appear. In a large portfolio, it is unlikely that any one security occupies more than a few percent, perhaps even less. Squaring a few percent gets down to basis points. Further, if the factor model is well-specified, the entries of $D$ are small. This is basically the argument that was made in the development of the [Arbitrage Pricing Theory](#arbitrage_pricing).\n",
    "\n",
    "Thus we may take a vector of security weights $w$ and map it into factor loadings $b=B^{\\prime}w$, where $B$ is the factor loading matrix in \\eqref{eq:factor_practice}. In that case the associated covariance matrix is the $F$ in \\eqref{eq:factor_practice}.\n",
    "\n",
    "When there are more complex securities such as options, the **`delta`** (first-order sensitivity) of the security to an underlying linear security or factor is added in to the exposure vector. For fixed income instruments, duration would be used. This is what gives rise to the name \"delta-normal.\"\n",
    "\n",
    "In the delta-normal method, we can form the appropriate statistics directly. Let’s say $e$ is the exposure n-vector (either a security weight vector $w$ or a factor exposure vector $b$), and $M$ is the associated covariance matrix. Then the variance of the distribution of portfolio outcomes is $e^{\\prime}Me$ and the standard deviation is $\\sigma=\\sqrt{e^{\\prime}Me}$. The Value at Risk at probability $p$ is $v=-(\\mu+\\sigma*Norm^{-1}(1-p))$ as in \\eqref{eq:normal_var}. At $p=99%$, that's $2.326\\sigma$. The cVaR (= Expected Shortfall since Norm is continuous) (expressed as a loss amount) is\n",
    "$$-\\mu+\\frac{\\sigma}{(1-p)\\sqrt{2\\pi}}\\exp\\bigl(\\frac{-v^2}{2\\sigma^2}\\bigr)$$\n",
    "as in \\eqref{eq:normal_cvar}.\n",
    "\n",
    "The code in the next cell draws the histogram directly from the multivariate normal distribution, and generates the statistics table under the delta-normal assumption. We've used the mean from the historical data so as to make the statistics more directly comparable; in practice as noted we might just assume a zero mean."
   ]
  },
  {
   "cell_type": "code",
   "execution_count": 51,
   "metadata": {},
   "outputs": [
    {
     "data": {
      "image/png": "[encoded data removed]",
      "text/plain": [
       "<Figure size 432x288 with 1 Axes>"
      ]
     },
     "metadata": {
      "needs_background": "light"
     },
     "output_type": "display_data"
    },
    {
     "name": "stdout",
     "output_type": "stream",
     "text": [
      "╒════════════════════╤════════════════╕\n",
      "│ Statistic          │          Value │\n",
      "╞════════════════════╪════════════════╡\n",
      "│ Count              │ 12036          │\n",
      "├────────────────────┼────────────────┤\n",
      "│ Min                │    -0.019648   │\n",
      "├────────────────────┼────────────────┤\n",
      "│ Max                │     0.0198015  │\n",
      "├────────────────────┼────────────────┤\n",
      "│ Mean               │     7.68e-05   │\n",
      "├────────────────────┼────────────────┤\n",
      "│ Median             │     7.68e-05   │\n",
      "├────────────────────┼────────────────┤\n",
      "│ Standard Deviation │     0.00523816 │\n",
      "├────────────────────┼────────────────┤\n",
      "│ Skewness           │     0          │\n",
      "├────────────────────┼────────────────┤\n",
      "│ Excess Kurtosis    │     0          │\n",
      "├────────────────────┼────────────────┤\n",
      "│ Jarque-Bera        │     0          │\n",
      "├────────────────────┼────────────────┤\n",
      "│ Chi-Squared p      │     1          │\n",
      "├────────────────────┼────────────────┤\n",
      "│ Serial Correlation │     0          │\n",
      "├────────────────────┼────────────────┤\n",
      "│ 99% VaR            │     0.012109   │\n",
      "├────────────────────┼────────────────┤\n",
      "│ 99% cVaR           │     0.0143667  │\n",
      "╘════════════════════╧════════════════╛\n"
     ]
    }
   ],
   "source": [
    "# get count\n",
    "count=metrics[0]\n",
    "#Transform logs to return space\n",
    "x_returns=np.array(np.exp(difflgs)-1)\n",
    "m_returns=np.mean(x_returns,axis=0)\n",
    "c_returns=np.cov(x_returns.T)\n",
    "# compute mean and std deviation directly from m and c\n",
    "port_mean=np.dot(m_returns,w)\n",
    "port_std=np.sqrt(np.matmul(np.matmul(w,c_returns),w))\n",
    "\n",
    "#Redo histogram with normal assumption\n",
    "\n",
    "bucketcounts=[]\n",
    "#Bucket the end percentiles\n",
    "low1=port_mean+port_std*stats.norm.ppf(.01)\n",
    "high1=port_mean+port_std*stats.norm.ppf(.99)\n",
    "bucketwidth=(high1-low1)/nbucket\n",
    "bucketcounts.append(stats.norm.cdf((low1-port_mean)/port_std)*count)\n",
    "for i in range(nbucket):\n",
    "    attach=low1+i*bucketwidth\n",
    "    detach=attach+bucketwidth\n",
    "    mid=(attach+detach)/2\n",
    "    bucketnames.append('%7.4f' % mid)\n",
    "    bucketcounts.append(stats.norm.pdf((mid-port_mean)/port_std)*count)\n",
    "\n",
    "#last bucket\n",
    "bucketcounts.append((1-stats.norm.cdf((high1-port_mean)/port_std))*count)\n",
    "\n",
    "width=.5\n",
    "plt.bar(range(nbucket+2),bucketcounts,width)\n",
    "plt.xticks(range(nbucket+2),bucketnames,rotation='vertical')\n",
    "plt.grid()\n",
    "plt.ylabel('Day count')\n",
    "plt.title('Figure 7.2: Histogram, delta-normal')\n",
    "plt.show();\n",
    "\n",
    "#Delta-normal calculations - redo the stats table\n",
    "table_norm=np.copy(table)\n",
    "#min\n",
    "table_norm[1][1]=str(port_mean+stats.norm.ppf(1/(count+1))*port_std)\n",
    "#max\n",
    "table_norm[2][1]=str(port_mean+stats.norm.ppf(count/(count+1))*port_std)\n",
    "#mean - should be the same\n",
    "table_norm[3][1]='%7.7f' % port_mean\n",
    "#median - make it equal the mean because normal\n",
    "table_norm[4][1]=table_norm[3][1]\n",
    "#standard deviation - use sqrt(w'Cw)\n",
    "table_norm[5][1]=str(port_std)\n",
    "#skewness - zero because normal\n",
    "table_norm[6][1]=\"0\"\n",
    "#excess kurtosis - zero because normal\n",
    "table_norm[7][1]=\"0\"\n",
    "#Jarque-Bera - zero because normal\n",
    "table_norm[8][1]=\"0\"\n",
    "#Chi-squared - one because normal\n",
    "table_norm[9][1]=\"1\"\n",
    "#Serial correlation - zero by assumption\n",
    "table_norm[10][1]=\"0\"\n",
    "#99% VaR - from formula\n",
    "p=.99\n",
    "norm_VaR=-(port_mean+stats.norm.ppf(1-p)*port_std)\n",
    "table_norm[11][1]=str(norm_VaR)\n",
    "#99% cVar - from formula\n",
    "norm_cVaR=port_std*np.exp(-.5*(norm_VaR/port_std)**2)\n",
    "norm_cVaR/=(1-p)*np.sqrt(2*np.pi)\n",
    "norm_cVaR=-port_mean+norm_cVaR\n",
    "table_norm[12][1]=str(norm_cVaR)\n",
    "print(tabulate(table_norm, headers, tablefmt='fancy_grid'))"
   ]
  },
  {
   "cell_type": "markdown",
   "metadata": {},
   "source": [
    "Figure 7.2 looks generally similar to Figure 7.1, but 7.2 falls off at the tails while 7.1 has extra probability at the two extremes as a result of its leptokurtosis.\n",
    "\n",
    "Note that the standard deviations of the historical simulation and the delta-normal method agree to four decimal places. Of course that's not a coincidence: if $X$ is the $T\\times3$ matrix of daily returns of the three currencies, then the covariance matrix in \\eqref{eq:three_currency_sampcov} was $C=(X-JX/T)^{\\prime}(X-JX/T)/T$ where $J$ is the $T\\times T$ matrix of all ones. The delta-normal calculation of standard deviation was $\\sigma_{delta-normal}=\\sqrt{w^{\\prime}Cw}$.\n",
    "\n",
    "The historical simulation's standard deviation was obtained by forming the $T$-vector $r=(X-JX/T)^{\\prime}w$, and then taking its sample standard deviation $\\sigma_{historical}=r^{\\prime}r/T$. So $\\sigma_{delta-normal}=\\sigma_{historical}$ to within the precision of the calculation.\n",
    "\n",
    "While the delta-normal method doesn’t deal with tail risk, it has a great advantage: we can apply the **`Euler rule`**. The Euler rule states that if $f(x)$ is a positive homogeneous and differentiable function of an $n$-vector $x=(x_1,\\dots,x_n)$, then\n",
    "$$z\\cdot f(x)=\\sum_{i=1}^n x_i \\frac{\\partial f}{\\partial{x_i}}(x)\\label{eq:euler_rule}\\tag{7.2}$$\n",
    "\n",
    "We've already discussed positive homogeneity in the context of [coherent risk measures](#coherent_risk) in Chapter 2; here positive homogeneity means that $f(kx)=k^z f(x)$ where $k$ is a positive scaler and $z$ is a scalar. We used $z=1$, but in fact \\eqref{eq:euler_rule} works for any complex $z$.\n",
    "\n",
    "We've know from our discussion of [coherent risk measures](#coherent_risk) that standard deviation ($\\sqrt{w^{\\prime} Cw}$) is positive homogenous with $z=1$. That allows us to decompose delta-normal standard deviation into the influences of each component:\n",
    "$$\\sigma(w)=\\sqrt{w^{\\prime}Cw}\\text{; }\\frac{\\partial \\sigma}{\\partial w}=g=\\frac{1}{\\sigma}Cw\\text{; }\\sigma(w)=w^{\\prime}g\\label{eq:euler_std}\\tag{7.3}$$\n",
    "Here $g$ is the **`gradient vector`**. The right-hand side of \\eqref{eq:euler_std} is a vector dot product – the vector version of the Euler decomposition in \\eqref{eq:euler_rule}. The $i^{th}$ summand ($i=1$ to $n$) in the dot product is the contribution of the $i^{th}$ element to the overall delta-normal standard deviation.\n",
    "\n",
    "Computing these quantities for the 3-currency example, we obtain the following:"
   ]
  },
  {
   "cell_type": "code",
   "execution_count": 52,
   "metadata": {},
   "outputs": [
    {
     "name": "stdout",
     "output_type": "stream",
     "text": [
      "Gradient (bps/day): [0.00631147 0.00459635 0.00480666]\n",
      "Contributions to Std Dev: [0.00210382 0.00153212 0.00160222]\n"
     ]
    }
   ],
   "source": [
    "#Compute gradient\n",
    "port_gradient=np.matmul(c_returns,w)/port_std\n",
    "print('Gradient (bps/day):',port_gradient)\n",
    "print('Contributions to Std Dev:',port_gradient*w)"
   ]
  },
  {
   "cell_type": "markdown",
   "metadata": {},
   "source": [
    "From this we can see that the Swissie is the biggest contributer to standard deviation. If we think that one of the other currencies is going to outperform Swissies, we could shift some weight from the Swissie to that currency and have a win-win situation: increasing expected return while lowering expected risk. This works on the margin, but large changes in weights will require a reassessment of overall risk.\n",
    "\n",
    "This helps to make risk/reward decisions. In more complex covariance matrices, we can even have some items with a negative contribution to overall standard deviation; those are diversifiers. If we think that a diversifier is going to generate more return than other items, then we can increase the exposure to the diversifier and get more return while reducing risk."
   ]
  },
  {
   "cell_type": "markdown",
   "metadata": {},
   "source": [
    "## 7.2.1 The Cornish-Fisher Expansion\n",
    "\n",
    "One way of taking into account higher moments when computing Value at Risk is the **`Cornish-Fisher expansion`**. In the delta-Normal approach, VaR is simply $z\\sigma$, where $\\sigma$ is standard deviation and $z=Norm^{-1}(p)$; e.g. $z=2.326$ when $p=.99$. We saw, however that Historical Simulation VaR was higher than delta-Normal VaR, meaning the empirical $z$ multiple was bigger than the Gaussian $z$.\n",
    "\n",
    "The Cornish-Fisher expansion (from a [1937 paper by E. A. Cornish & R. A. Fisher](https://doi.org/10.2307%2F1400905)) is essentially a Taylor series that takes into account moments of the distribution beyond the second moment to get a better estimate of the multiplier $z$. Taking into account the skewness and kurtosis terms gives\n",
    "$$z_{new}=z-\\frac{1}{6}(z^2-1)m_3+\\frac{z}{24}(z^2-3)m_4-\\frac{z}{36}(2z^2-6)m_3^2\\label{eq:cornish_fisher}\\tag{7.4}$$\n",
    "Here $m_3$ is skewness and $m_4$ is (excess) kurtosis. For a normal distribution skewness and excess kurtosis are zero, so the Cornish-Fisher adjustment makes no change in that case.\n",
    "\n",
    "[Maillard 2012](https://dx.doi.org/10.2139/ssrn.1997178) pointed out that the expansion only works in a certain range of skewness and kurtosis parameters. The absolute value of skewness must be outside a middle range, as shown:\n",
    "$$6(\\sqrt{2}-1)\\geq|m_3|,\\enspace6(\\sqrt{2}+1)\\leq|m_3|\\label{eq:cornish_skewness}\\tag{7.5}$$\n",
    "So $|m_3|$ must be less that about $2.485$, or greater than about $14.485$. The top range &mdash; where skewness is greater than $14.485$ &mdash; is generally beyond repair by a simple adjustment. So the main applicability of Cornish-Fisher is in the lower range of skewness.\n",
    "\n",
    "Kurtosis must be between the two roots of a quadratic:\n",
    "$$4(1+11s^2-\\sqrt{s^4-6s^2+1})\\leq m_4\\leq4(1+11s^2+\\sqrt{s^4-6s^2+1})\\label{eq:cornish_kurtosis}\\tag{7.6}$$\n",
    "where $s=m_3/6$. Thus when $s=0$, kurtosis must be between 0 and 8.\n",
    "\n",
    "Figure 7.3 shows the valid parameter area for Cornish-Fisher in the lower range of skewness. Excess kurtosis is on the vertical axis; skewness is on the horizontal axis:"
   ]
  },
  {
   "cell_type": "code",
   "execution_count": 53,
   "metadata": {},
   "outputs": [
    {
     "data": {
      "image/png": "[encoded data removed]",
      "text/plain": [
       "<Figure size 432x288 with 1 Axes>"
      ]
     },
     "metadata": {
      "needs_background": "light"
     },
     "output_type": "display_data"
    }
   ],
   "source": [
    "#Draw Cornish-Fisher admissability graph\n",
    "stepsize=12*(np.sqrt(2)-1)/100\n",
    "x=np.arange(-50*stepsize+.0001,\n",
    "            50*stepsize,stepsize)\n",
    "y1=[4*(1+11*(x/6)**2+np.sqrt((x/6)**4-6*(x/6)**2+1))][0]\n",
    "y2=[4*(1+11*(x/6)**2-np.sqrt((x/6)**4-6*(x/6)**2+1))][0]\n",
    "x=np.append(x,50*stepsize)\n",
    "y1=np.append(y1,4*(1+11*(x[100]/6)**2))\n",
    "y2=np.append(y2,4*(1+11*(x[100]/6)**2))\n",
    "plt.plot(x,y1)\n",
    "plt.plot(x,y2)\n",
    "plt.fill_between(x,y1,y2,facecolor='green')\n",
    "plt.xlabel('Skewness')\n",
    "plt.ylabel('Excess Kurtosis')\n",
    "plt.title('Figure 7.3: Allowed parameter combinations for Cornish-Fisher')\n",
    "plt.grid()\n",
    "plt.show();"
   ]
  },
  {
   "cell_type": "markdown",
   "metadata": {},
   "source": [
    "Applying \\eqref{eq:cornish_fisher} to the Historical Simulation data above, we get the following:"
   ]
  },
  {
   "cell_type": "code",
   "execution_count": 54,
   "metadata": {},
   "outputs": [
    {
     "name": "stdout",
     "output_type": "stream",
     "text": [
      "Normal 99 pct z:  2.32635\n",
      "Cornish-Fisher:  3.23965\n",
      "Historical:  2.57442\n",
      "\n",
      "Normal 99 pct VaR:  0.01211\n",
      "Cornish-Fisher VaR:  0.01689\n",
      "Historical VaR:  0.01341\n"
     ]
    }
   ],
   "source": [
    "#Compute new z-score using 7.4\n",
    "z=stats.norm.ppf(p)\n",
    "znew=z-(1/6)*(z**2-1)*stats.skew(portfolio)\n",
    "znew+=(z/24)*(z**2-3)*stats.kurtosis(portfolio)\n",
    "znew-=(z/36)*(2*z**2-5)*stats.skew(portfolio)**2\n",
    "print_str='Normal %2.f pct' % np.multiply(p,100.)\n",
    "print_str+=\" z: %8.5f\" % z\n",
    "print(print_str)\n",
    "print('Cornish-Fisher: %8.5f' % znew)\n",
    "#Compare with historical\n",
    "hs_99VaR=-np.percentile(portfolio,1)\n",
    "zhist=(hs_99VaR+port_mean)/port_std\n",
    "print('Historical: %8.5f' % zhist)\n",
    "\n",
    "#Show comparisons of VaRs\n",
    "print_str='\\nNormal %2.f pct' % np.multiply(p,100.)\n",
    "print_str+=\" VaR: %8.5f\" % norm_VaR\n",
    "print(print_str)\n",
    "cf_99VaR=-port_mean+znew*port_std\n",
    "print('Cornish-Fisher VaR: %8.5f' % cf_99VaR)\n",
    "print('Historical VaR: %8.5f' % hs_99VaR)"
   ]
  },
  {
   "cell_type": "markdown",
   "metadata": {},
   "source": [
    "So in this case, the Cornish-Fisher expansion overcorrects, giving a more conservative Value at Risk than the one that arose from historical experience."
   ]
  },
  {
   "cell_type": "markdown",
   "metadata": {},
   "source": [
    "## 7.3 Monte Carlo Simulation\n",
    "\n",
    "A third technique for generating distributions of portfolio outcomes is the **`Monte Carlo`** method. Monte Carlo is a reference to the casinos in Monaco, and indicates that a large number of random trials are generated to form a sample distribution. To illustrate this, we'll start with a delta-normal model but then will add complexity.\n",
    "\n",
    "Suppose then that we have an $n\\times n$ covariance matrix $M$ and an exposure $n$-vector $e$ for a portfolio. We want to draw an $n$-vector of factor (or security returns) from the multivariate normal distribution with covariance matrix $M$.\n",
    "To do this, we must **`Cholesky factor`** $M$:\n",
    "$$M=LL^{\\prime}\\text{  where }L\\text{ is lower triangular}\\label{eq:cholesky_factor}\\tag{7.10}$$\n",
    "If $M$ is positive semidefinite, then such a factorization is possible.\n",
    "\n",
    "The algorithm for Cholesky factorization is straightforward. The lower triangular Cholesky factor of the 3-currency covariance matrix \\eqref{three_currency_sampcov} is computed here:"
   ]
  },
  {
   "cell_type": "code",
   "execution_count": 68,
   "metadata": {},
   "outputs": [
    {
     "name": "stdout",
     "output_type": "stream",
     "text": [
      "(7.11) Cholesky decomposition of 3-currency sample covariance matrix:\n",
      " [[0.72070295 0.         0.        ]\n",
      " [0.34609443 0.48680727 0.        ]\n",
      " [0.30618222 0.0217864  0.56677204]]\n"
     ]
    }
   ],
   "source": [
    "#Show the Cholesky decomposition\n",
    "#of the CHF-GPB-JPY covariance matrix\n",
    "chol=np.linalg.cholesky(c)\n",
    "print('(7.11) Cholesky decomposition of 3-currency sample covariance matrix:\\n',chol*100)"
   ]
  },
  {
   "cell_type": "markdown",
   "metadata": {},
   "source": [
    "<font color=\"white\">$$\\label{eq:cholesky_sampcov}\\tag{7.11}$$</font>\n",
    "We then generate n-vectors $s_j$ ($j=1$ to $T$, where $T$ the number of Monte Carlo trials desired) of independent draws from a standard (mean 0, standard deviation 1) normal distribution. So each $s_j$ consists of $n$ scalars each drawn independently from a standard normal distribution. The desired draw from the multivariate normal distribution is $r_j=Ls_j$. This is because\n",
    "$$\\mathbb{E}[r_jr_j^{\\prime}]=\\mathbb{E}[Ls_js_j^{\\prime}L^{\\prime}]=L\\mathbb{E}[s_js_j^{\\prime}]L^{\\prime}=LL^{\\prime}=M\\label{eq:cholesky_expectation}\\tag{7.12}$$\n",
    "\n",
    "We run $T=12036$ trials, generating 3-vectors $s_1,\\dots,s_T$. We form draws $r_i=Ls_i$. These return-vector draws are then dotted with the weight vector $w=(1/3, 1/3, 1/3)$ to generate $T$ rates of return."
   ]
  },
  {
   "cell_type": "code",
   "execution_count": 76,
   "metadata": {},
   "outputs": [
    {
     "name": "stdout",
     "output_type": "stream",
     "text": [
      "╒════════════════════╤═══════════════╕\n",
      "│ Statistic          │         Value │\n",
      "╞════════════════════╪═══════════════╡\n",
      "│ Count              │ 12036         │\n",
      "├────────────────────┼───────────────┤\n",
      "│ Min                │    -0.0203071 │\n",
      "├────────────────────┼───────────────┤\n",
      "│ Max                │     0.0214615 │\n",
      "├────────────────────┼───────────────┤\n",
      "│ Mean               │     6.65e-05  │\n",
      "├────────────────────┼───────────────┤\n",
      "│ Median             │     8.36e-05  │\n",
      "├────────────────────┼───────────────┤\n",
      "│ Standard Deviation │     0.0052779 │\n",
      "├────────────────────┼───────────────┤\n",
      "│ Skewness           │     0.0010422 │\n",
      "├────────────────────┼───────────────┤\n",
      "│ Excess Kurtosis    │     0.0373164 │\n",
      "├────────────────────┼───────────────┤\n",
      "│ Jarque-Bera        │     0.700526  │\n",
      "├────────────────────┼───────────────┤\n",
      "│ Chi-Squared p      │     0.704503  │\n",
      "├────────────────────┼───────────────┤\n",
      "│ Serial Correlation │     0.0013274 │\n",
      "├────────────────────┼───────────────┤\n",
      "│ 99% VaR            │     0.0120789 │\n",
      "├────────────────────┼───────────────┤\n",
      "│ 99% cVaR           │     0.0140765 │\n",
      "╘════════════════════╧═══════════════╛\n"
     ]
    }
   ],
   "source": [
    "#Generate random draws; use fixed seed to be replicable\n",
    "seed=np.random.seed(12345678)\n",
    "s_trial=np.random.normal(0,1,size=[int(count),3])\n",
    "logr_trial=np.matmul(chol,s_trial.T).T+m\n",
    "\n",
    "#logr_trial has Monte Carlo log-returns; transform to returns\n",
    "r_trial=np.exp(logr_trial)-1\n",
    "\n",
    "#Get trial portfolio returns\n",
    "r_ptrial=np.matmul(r_trial,w)\n",
    "statnames,mettrial,tabtrial=qf.StatsTable(r_ptrial)\n",
    "print(tabulate(tabtrial, headers, tablefmt='fancy_grid'))"
   ]
  },
  {
   "cell_type": "markdown",
   "metadata": {},
   "source": [
    "These statistics are close to the statistics we got from the delta-normal method. There are some subtleties of the sampling distributions &mdash; even though we generated future outcomes by using draws from a normal distribution, there is some variation in what we will observe. For example, the skewness and kurtosis were not exactly zero in our sample, although they are zero in a true normal distribution. The standard deviation was slightly different.\n",
    "\n",
    "The artificial future we generated using simple Monte Carlo looked a lot like the artificial future we generated using delta-normal, and the reasons for the differences are well understood: sampling error is limited and can be made smaller simply by running more trials."
   ]
  },
  {
   "cell_type": "markdown",
   "metadata": {},
   "source": [
    "### 7.3.1 Bartlett's Test\n",
    "\n",
    "But what about variations we see in the real world? We've already discussed models and shrinkage techniques that are used to generate covariance matrices that are, we hope, better predictors of future covariance matrices than the past sample covariance matrix. \n",
    "\n",
    "For example, at this writing we don’t know what the covariance matrix will be between Swissies, pounds and yen for the 48 years 2019-2065. Even if we waited and observed that matrix T years from now, how would we tell if the T-years-forward covariance matrix was statistically the same as the T-years-back covariance matrix?\n",
    "\n",
    "The short answer is we wouldn’t be able to tell, just as we wouldn’t be able to tell if we were handed two numbers. If I get 3 from one process and 3.1 from another process, are they close?\n"
   ]
  },
  {
   "cell_type": "code",
   "execution_count": 78,
   "metadata": {},
   "outputs": [
    {
     "name": "stdout",
     "output_type": "stream",
     "text": [
      "Monte Carlo covariance matrix:\n",
      "[[0.52144955 0.25494528 0.22517484]\n",
      " [0.25494528 0.36412202 0.12335106]\n",
      " [0.22517484 0.12335106 0.41459694]]\n",
      "Historical covariance matrix\n",
      "[[0.51941274 0.24943128 0.22066643]\n",
      " [0.24943128 0.35676267 0.11657374]\n",
      " [0.22066643 0.11657374 0.41545275]]\n"
     ]
    }
   ],
   "source": [
    "#Show sample covariance matrix (log-returns)\n",
    "print('Monte Carlo covariance matrix:')\n",
    "ctrial=np.cov(logr_trial.T)\n",
    "print(ctrial*10000)\n",
    "print('Historical covariance matrix')\n",
    "print(c*10000)"
   ]
  },
  {
   "cell_type": "markdown",
   "metadata": {},
   "source": [
    "## Chapter 7 Footnotes\n",
    "<a name=\"seven_footnotes\"></a>\n",
    "<br>\n",
    "$^1$ It's more likely that log-returns follow a multivariate normal distribution than simple returns. Modeling log-returns as multivariate normal requires transformations back to return space; for simplicity we'll avoid those transformations at this point."
   ]
  }
 ],
 "metadata": {
  "kernelspec": {
   "display_name": "Python 3",
   "language": "python",
   "name": "python3"
  },
  "language_info": {
   "codemirror_mode": {
    "name": "ipython",
    "version": 3
   },
   "file_extension": ".py",
   "mimetype": "text/x-python",
   "name": "python",
   "nbconvert_exporter": "python",
   "pygments_lexer": "ipython3",
   "version": "3.7.1"
  }
 },
 "nbformat": 4,
 "nbformat_minor": 2
}

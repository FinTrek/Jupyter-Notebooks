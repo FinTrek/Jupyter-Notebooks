{
 "cells": [
  {
   "cell_type": "markdown",
   "metadata": {
    "slideshow": {
     "slide_type": "slide"
    }
   },
   "source": [
    "+ # Chapter 0: Administrative\n",
    "\n",
    "    + ## First class is January 8, 2019 from 10:30AM to 12 noon in Baxter 128.\n",
    "    + ## Professor is Kenneth Winston (kwinston@caltech.edu). My office is 236 Baxter. I am there after every class, and lots of other times. Email if you can't find me and want to set up a meeting.\n",
    "    + ## This is the ninth year I have taught this class. This Jupyter notebook is the textbook.\n",
    "    + ## I generally post the next week’s lectures on Sunday nights.\n",
    "    + ## This class requires a fair amount of time. You should plan to spend at least nine hours a week on the class between lectures, homework, tests, and general studying.\n",
    "    \n",
    "Copyright &copy; Kenneth Winston 2019"
   ]
  },
  {
   "cell_type": "markdown",
   "metadata": {
    "slideshow": {
     "slide_type": "slide"
    }
   },
   "source": [
    "+ # <span style=\"color:red\">0.1 Components of the class</span>\n",
    "    + ## <span style=\"color:red\">0.1.1 Class attendance and participation</span>\n",
    "\n",
    "        + ### There will be twenty 1.5 hour lectures\n",
    "        + ### People learn more when they participate in class, especially when they ask questions\n",
    "        + ### The cases where\n",
    "            >(a) you are sitting in class thinking “I’m the only idiot who doesn’t understand this;” and  \n",
    "            (b) you actually are the only idiot who doesn’t understand this<br/>\n",
    "        + ### form a set of measure zero.\n",
    "        + ### So ask questions. Probably the professor is the idiot for not explaining it properly, and your classmates will thank you for forcing a clarification."
   ]
  },
  {
   "cell_type": "markdown",
   "metadata": {},
   "source": [
    "+ # <span style=\"color:red\">0.1 Components, cont'd (1)</span>\n",
    "    + ## <span style=\"color:red\">0.1.1 Class attendance and participation (cont'd)</span>\n",
    "        + ### If you take the class pass/fail, you must attend the entire lecture for sixteen out of the twenty lectures to pass. (\"Attend\" means you are paying attention to the class, not swiping right on your phone.)\n",
    "        + ### If you take the class for a grade, you do not have to attend the lectures. However the maximum you can get without attending at least sixteen lectures is A-.\n",
    "    + ## <span style=\"color:red\">0.1.2 Homework, 30%.<span>\n",
    "        + ### Homework assignments are at the end of each Thursday lecture except Lecture 10 and Lecture 20.\n",
    "        + ### Responses should be uploaded to Moodle before the beginning of the next Thursday class."
   ]
  },
  {
   "cell_type": "markdown",
   "metadata": {
    "slideshow": {
     "slide_type": "slide"
    }
   },
   "source": [
    "+ # <span style=\"color:red\">0.1 Components, cont'd (2)</span>\n",
    "    + ## <span style=\"color:red\">0.1.2 Homework, 30%, cont'd<span>\n",
    "        + ### Original electronic documents are preferred (PDF, Word) but if you need to, you can write on paper, scan to PDF or JPG; and upload.\n",
    "        + ### Since we may discuss the homework in class, no credit will be given for homework received after the start of the class where it is due. The two worst homeworks will be thrown out; the remaining ones will be averaged to form 30% of the grade.\n",
    "        + ### You may collaborate on homework with other members of this year’s class, but you cannot collaborate with any other person, nor can you use materials or information provided by people who have taken the class in previous years. Other than that, you can use any resource you want while doing the homework."
   ]
  },
  {
   "cell_type": "markdown",
   "metadata": {
    "slideshow": {
     "slide_type": "slide"
    }
   },
   "source": [
    "+ # <span style=\"color:red\">0.1 Components, cont'd (3)</span>\n",
    "    + ## <span style=\"color:red\">0.1.2 Homework, 30%, cont'd<span>\n",
    "        + ### You get 10 additional homework points (/100) for each major error you discover in my lecture slides or Python code. I am the sole judge of what constitutes a major error, but for example if I say “_Tesla, Inc. is a company that operates coal mines,_” that’s a major error. Eight previous years of students have pored over this material, so good luck. But I make a lot of changes each year, so that’s a rich source of new errors = bonus homework points.\n",
    "        + ### Use computers only for calculation. If you are taking an integral or a derivative, solve it yourself: don’t just say “Wolfram Alpha says the answer is…” And if you do use a computer for calculation, show enough intermediate steps to prove that you know how the theory works. I prefer well-commented Python code for assignments that require a computer."
   ]
  },
  {
   "cell_type": "markdown",
   "metadata": {
    "slideshow": {
     "slide_type": "slide"
    }
   },
   "source": [
    "+ # <span style=\"color:red\">0.1 Components, cont'd (4)</span>\n",
    "    + ## <span style=\"color:red\">0.1.3 Midterm, 30%.</span>\n",
    "        + ### A midterm will be given after Lecture 10.\n",
    "        + ### The midterm is take-home and is due just before Lecture 12.\n",
    "        + ### You may NOT collaborate on the midterm (or final) with any other person, nor can you use materials or information provided by people who have taken the class in previous years. Other than that, you can use any resource you want while doing the midterm (or final).\n",
    "    + ## <span style=\"color:red\">0.1.4 Final, 40%.</span>\n",
    "        + ### A final will be given after Lecture 20. The final is also take-home and will cover the entire class including Lectures 1-10. If you are taking the class pass/fail, you must score at least 65% on the final."
   ]
  },
  {
   "cell_type": "markdown",
   "metadata": {},
   "source": [
    "+ # 0.2 Grading\n",
    "    + ## A grade will be formed from:\n",
    " - ## 30% homework\n",
    " - ## 30% midterm\n",
    " - ## 40% final.\n",
    "    + ## If you are taking the class pass/fail, you will fail if you did not attend sixteen out of twenty lectures even if your score is otherwise passing. You will also fail if you do not get at least 65% on the final even if your score is otherwise passing."
   ]
  },
  {
   "cell_type": "markdown",
   "metadata": {},
   "source": [
    "+ # 0.2 Grading, cont'd\n",
    "    + ## Generally the map between your overall numerical score and your letter grade is the usual one embodied in the code segment in the next cell. Below 63.333 is usually failing; above 96.667 is usually A+.\n",
    "    + ## However, I grade a little bit on a curve so if everyone is doing great the bar goes up and if everyone is doing badly the bar goes down. "
   ]
  },
  {
   "cell_type": "code",
   "execution_count": 19,
   "metadata": {},
   "outputs": [
    {
     "name": "stdout",
     "output_type": "stream",
     "text": [
      "Enter a non-negative number grade:10241872314\n",
      "\n",
      "Number grade is 10241872314.00\n",
      "Letter grade is A+\n"
     ]
    }
   ],
   "source": [
    "#Convert a number grade to a letter grade for BEM 111\n",
    "\n",
    "#Get the number grade\n",
    "while True:\n",
    "    string_grade=input('Enter a non-negative number grade:')\n",
    "    try:\n",
    "        number_grade=float(string_grade)\n",
    "        if number_grade >= 0:\n",
    "            break\n",
    "    except:\n",
    "        pass\n",
    "    print(\"Please enter a non-negative number\")\n",
    "\n",
    "#Get the letter\n",
    "letters=['F','D','C','B','A']\n",
    "if number_grade < 63.333:\n",
    "    grade_index=0\n",
    "elif number_grade >= 90:\n",
    "    grade_index=4\n",
    "else:\n",
    "    grade_index=int(number_grade/10)-5\n",
    "letter_grade=letters[grade_index]\n",
    "    \n",
    "#Get + or -\n",
    "grade_mod_10 = number_grade % 10\n",
    "if letter_grade == 'F':\n",
    "    grade_mod_10 = 5     #No plusses or minuses for F's\n",
    "if number_grade >= 90.+float(20./3.):\n",
    "    grade_mod_10 = 9     #Anything over 96.667 is an A+\n",
    "if grade_mod_10 < float(10./3.):\n",
    "    letter_grade+='-'\n",
    "elif grade_mod_10 >= float(20./3.):\n",
    "    letter_grade+='+'\n",
    "        \n",
    "print('\\nNumber grade is %.2f'% number_grade)\n",
    "print('Letter grade is '+letter_grade)"
   ]
  },
  {
   "cell_type": "markdown",
   "metadata": {
    "slideshow": {
     "slide_type": "slide"
    }
   },
   "source": [
    "+ # 0.3 About me\n",
    " + ## I grew up near Boston, Massachusetts. I went to Caltech and got a BS and MS in mathematics. I got a [PhD in mathematics (combinatorics) from M.I.T](http://library.mit.edu/F/Q8JTXL26J3NPYUXLRDKTT23VIQDVLPAULXANI2M5NIR7C4HF27-10935?func=find-acc&acc_sequence=006127219).\n",
    " + ## After getting my PhD, I briefly taught mathematics at Rutgers University. I then got a job as a portfolio manager for a small firm in New York City. I managed portfolios (equity and derivatives) using quantitative methods. We will talk about some of the theories I and others used in this class. Eventually I moved into risk management, which I found more interesting because it is less narrowly focused than portfolio management.\n",
    " + ## I was the chief risk officer at Morgan Stanley Investment Management in New York, and also worked in “sell side” (broker-dealer) risk at Morgan Stanley. I came back to Pasadena in 2008 to work as the chief risk officer at Western Asset Management, which (1) manages about $410 billion; and (2) is right down Colorado Blvd here in Pasadena."
   ]
  },
  {
   "cell_type": "markdown",
   "metadata": {},
   "source": [
    "+ # 0.4 BEM 111 background\n",
    "    + ## While I was at Morgan Stanley, I was an adjunct professor at the Courant Institute of Mathematical Sciences at New York University. I taught a class in Capital Markets and Portfolio Theory there; that class was a bit similar to BEM 104 at Caltech.\n",
    "    + ## Despite the fact that we are in the humanities & social sciences division, this is basically an applied mathematics class. Reasonably trained Caltech students who meet the prerequisites should be able to handle it, but it will definitely be more quantitative than qualitative. Today’s class is by far the least quantitative, but it will give you the flavor of what we’ll do.\n",
    "    + ## The math level should be accessible to junior/senior undergraduates and graduate students. For sophomores and frosh it probably gets increasingly hard to follow - although both of those class years have taken and passed the class. But there's probably more catch-up work if you're in an earlier class.\n",
    "    + ## Some people found handling the concepts challenging and others found them quite easy. Don’t feel shy if you are challenged – just ask questions. No matter how smart you are, it’s hard to keep up with live mathematical exposition: if I weren’t the one giving the lecture, I would probably fall behind listening to it from time to time. So (as I said previously!) do everyone a favor and ask when you’re getting behind."
   ]
  },
  {
   "cell_type": "markdown",
   "metadata": {},
   "source": [
    "+ # 0.5 Class topic and prerequisites\n",
    "    + ## This class is about financial risk management, with a tilt toward “buy side” risk management.\n",
    "        + ### In the financial world, the “buy side” consists of institutions that invest money for clients. Examples are mutual funds, hedge funds, asset managers serving pension plans, college endowments, and sovereign wealth funds.\n",
    "        + ### The “sell side” consists of broker-dealers who execute transactions; these are mainly divisions of large banks.\n",
    "        + ### Of course buy side institutions both buy and sell, and sell side institutions both buy and sell, so these names are a bit confusing.\n",
    "    + ## Prerequisites: a solid undergraduate mathematics education. Knowledge of calculus, probability and statistics. If you have taken one or more of BEM 105, Ma 112, or ACM/ESE 118, you probably have the right background."
   ]
  },
  {
   "cell_type": "markdown",
   "metadata": {},
   "source": [
    "+ # 0.6 Lecture sequence\n",
    "   + ### Lectures 1&2: Risk, Uncertainty and Profit (Frank Knight, 1921). Basic concepts of risk as uncertainty about the future. Basic economics. Utility theory. \n",
    "   + ### Lectures 3&4: Interest rate risk. Yield curves and yield curve dynamics. Principal components. Litterman-Scheinkman. Short rate models.\n",
    "   + ### Lectures 5&6: Coherent risk measures (Artzner, Delbain, Eber and Heath), Bayes Theorem. Markowitz efficient frontier; portfolio selection. Michaud – resampled efficient frontier. Risk Parity. Black-Litterman.\n",
    "   + ### Lectures 7&8: Portfolio volatility models: APT, Factor, PCA. Normality & non-normality. Generating portfolio distributions: Historical, Delta-normal, \n",
    "   + ### Lectures 9&10:  Generating portfolio distributions, cont’d: Delta-gamma, Monte-Carlo. Scenario analysis and stress testing. Fat tails. Regime switching. Extreme value theory.\n",
    "   + ### Lectures 11&12: Time-series volatility modeling. Heston’s model. GARCH and variants. Practical methods to predict volatility.\n",
    "   + ### Lectures 13&14: Correlation measures. Copula functions. Anticipating correlations. MacGyver method (Engel).\n",
    "   + ### Lectures 15&16: Credit risk: Capital Structure. Structural models. Merton and KMV models. Credit convexity.\n",
    "   + ### Lectures 17&18: Credit: Reduced form models, credit default swaps, Li copula. Hedge fund risk management"
   ]
  },
  {
   "cell_type": "code",
   "execution_count": null,
   "metadata": {
    "collapsed": true
   },
   "outputs": [],
   "source": []
  }
 ],
 "metadata": {
  "kernelspec": {
   "display_name": "Python 3",
   "language": "python",
   "name": "python3"
  },
  "language_info": {
   "codemirror_mode": {
    "name": "ipython",
    "version": 3
   },
   "file_extension": ".py",
   "mimetype": "text/x-python",
   "name": "python",
   "nbconvert_exporter": "python",
   "pygments_lexer": "ipython3",
   "version": "3.6.6"
  }
 },
 "nbformat": 4,
 "nbformat_minor": 2
}
